{
 "cells": [
  {
   "cell_type": "code",
   "execution_count": 1,
   "metadata": {},
   "outputs": [
    {
     "name": "stdout",
     "output_type": "stream",
     "text": [
      "Intel MKL WARNING: Support of Intel(R) Streaming SIMD Extensions 4.2 (Intel(R) SSE4.2) enabled only processors has been deprecated. Intel oneAPI Math Kernel Library 2025.0 will require Intel(R) Advanced Vector Extensions (Intel(R) AVX) instructions.\n",
      "Intel MKL WARNING: Support of Intel(R) Streaming SIMD Extensions 4.2 (Intel(R) SSE4.2) enabled only processors has been deprecated. Intel oneAPI Math Kernel Library 2025.0 will require Intel(R) Advanced Vector Extensions (Intel(R) AVX) instructions.\n"
     ]
    }
   ],
   "source": [
    "# Establish session connection\n",
    "from assets.config import connection_builder\n",
    "session = connection_builder()"
   ]
  },
  {
   "cell_type": "code",
   "execution_count": 3,
   "metadata": {},
   "outputs": [],
   "source": [
    "# Adding libraries to Snowpark session\n",
    "from assets.mod5 import mod5\n",
    "session.add_import('assets/mod5.py','mod5')"
   ]
  },
  {
   "cell_type": "code",
   "execution_count": 5,
   "metadata": {},
   "outputs": [
    {
     "name": "stdout",
     "output_type": "stream",
     "text": [
      "-------------\n",
      "|\"COL1\"     |\n",
      "-------------\n",
      "|[          |\n",
      "|  \"numpy\"  |\n",
      "|]          |\n",
      "-------------\n",
      "\n"
     ]
    }
   ],
   "source": [
    "# Adding packages to Snowpark session\n",
    "import numpy as np \n",
    "from snowflake.snowpark.functions import udf\n",
    "\n",
    "session.add_packages(np)\n",
    "\n",
    "@udf\n",
    "def get_numpy_data() -> list:\n",
    "    return [np.__name__]\n",
    "\n",
    "session.sql(f\"select {get_numpy_data.name}()\").to_df(\"col1\").show()"
   ]
  },
  {
   "cell_type": "code",
   "execution_count": 9,
   "metadata": {},
   "outputs": [],
   "source": [
    "# Adding Packages to Snowpark Session via requirements \n",
    "session.add_requirements(file_path=\"assets/requirements.txt\")\n",
    "\n",
    "# Note: Cannot add package snowflake because it is not available in Snowflake and Session.custom_package_usage_config['enabled'] is not set to True. \n",
    "# To upload these packages, you can set it to True or find the directory of these packages and add it via Session.add_import.\n",
    "# See details at https://docs.snowflake.com/en/developer-guide/snowpark/python/creating-udfs.html#using-third-party-packages-from-anaconda-in-a-udf.\n"
   ]
  },
  {
   "cell_type": "code",
   "execution_count": null,
   "metadata": {},
   "outputs": [],
   "source": []
  },
  {
   "cell_type": "code",
   "execution_count": 10,
   "metadata": {},
   "outputs": [],
   "source": [
    "# Close Snowpark session\n",
    "session.close()"
   ]
  }
 ],
 "metadata": {
  "kernelspec": {
   "display_name": "snowpark10",
   "language": "python",
   "name": "python3"
  },
  "language_info": {
   "codemirror_mode": {
    "name": "ipython",
    "version": 3
   },
   "file_extension": ".py",
   "mimetype": "text/x-python",
   "name": "python",
   "nbconvert_exporter": "python",
   "pygments_lexer": "ipython3",
   "version": "3.10.13"
  }
 },
 "nbformat": 4,
 "nbformat_minor": 2
}
