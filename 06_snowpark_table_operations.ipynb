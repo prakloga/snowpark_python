{
 "cells": [
  {
   "cell_type": "code",
   "execution_count": 28,
   "metadata": {},
   "outputs": [],
   "source": [
    "import os\n",
    "import json\n",
    "import pandas as pd\n",
    "import xgboost as xgb\n",
    "import configparser\n",
    "from snowflake.snowpark import Session\n",
    "from copy import copy\n",
    "from snowflake.snowpark import Row\n",
    "import snowflake.snowpark.functions as F\n",
    "from snowflake.snowpark.functions import col, lit, sql_expr, get, get_path, udf, udtf, table_function, sproc, seq8, uniform, when_matched, when_not_matched\n",
    "from snowflake.snowpark.types import StructType, StructField, StringType, IntegerType, DecimalType, LongType\n",
    "from snowflake.snowpark.exceptions import SnowparkJoinException, SnowparkSQLException\n",
    "from snowflake.snowpark.files import SnowflakeFile\n",
    "from snowflake.snowpark.column import METADATA_FILENAME, METADATA_FILE_ROW_NUMBER\n",
    "\n",
    "# Read snowflake credentials securely\n",
    "config = configparser.ConfigParser()\n",
    "config.read('assets/credentials.cfg')\n",
    "\n",
    "connection_parameters = dict(\n",
    "   account   =  config['SNOWPARKAWS']['SNOWFLAKE_ACCOUNT'],\n",
    "   user      =  config['SNOWPARKAWS']['SNOWFLAKE_USER'],\n",
    "   password  =  config['SNOWPARKAWS']['SNOWFLAKE_PASSWORD'],\n",
    "   role      =  config['SNOWPARKAWS']['SNOWFLAKE_ROLE'],  # optional\n",
    "   warehouse =  config['SNOWPARKAWS']['SNOWFLAKE_WAREHOUSE'],  # optional\n",
    "   database  =  config['SNOWPARKAWS']['SNOWFLAKE_DATABASE'],  # optional\n",
    "   schema    =  config['SNOWPARKAWS']['SNOWFLAKE_SCHEMA'],  # optional\n",
    ")\n",
    "\n",
    "# Pass this dictionary to the Session.builder.configs method to return a builder object that has these connection parameters.\n",
    "# Call the create method of the builder to establish the session.\n",
    "session = Session.builder.configs(connection_parameters).create()"
   ]
  },
  {
   "cell_type": "markdown",
   "metadata": {},
   "source": [
    "#### `Understanding Snowpark Session Table Object and it's different methods`\n",
    "\n",
    "- snowflake.snowpark.Table represents a lazily-evaluated Table.\n",
    "\n",
    "You can create a Table object by calling [Session.table()](https://docs.snowflake.com/en/developer-guide/snowpark/reference/python/latest/table) with the name of the table in Snowflake.\n",
    "\n",
    "\n",
    "Methods of Snowpark Table Object:\n",
    "\n",
    "| Method | Description |\n",
    "|--|--|\n",
    "| delete() | Deletes rows in a Table and returns a DeleteResult, representing the number of rows deleted. |\n",
    "| drop_table() | Drops the table from the Snowflake database. |\n",
    "| merge() | Merges this Table with DataFrame source on the specified join expression and a list of matched or not-matched clauses, and returns a MergeResult, representing the number of rows inserted, updated and deleted by this merge action. |\n",
    "| update() | Updates rows in the Table with specified assignments and returns a UpdateResult, representing the number of rows modified and the number of multi-joined rows modified.| "
   ]
  },
  {
   "cell_type": "code",
   "execution_count": 5,
   "metadata": {},
   "outputs": [
    {
     "name": "stdout",
     "output_type": "stream",
     "text": [
      "-------------\n",
      "|\"A\"  |\"B\"  |\n",
      "-------------\n",
      "|1    |1    |\n",
      "|1    |2    |\n",
      "|2    |1    |\n",
      "|2    |2    |\n",
      "|3    |1    |\n",
      "|3    |2    |\n",
      "-------------\n",
      "\n"
     ]
    }
   ],
   "source": [
    "target_df = session.create_dataframe([(1,1), (1,2), (2,1), (2,2), (3,1), (3,2)], schema=[\"a\", \"b\"])\n",
    "target_df.show()"
   ]
  },
  {
   "cell_type": "markdown",
   "metadata": {},
   "source": [
    "- [save_as_table](https://docs.snowflake.com/en/developer-guide/snowpark/reference/python/latest/api/snowflake.snowpark.DataFrameWriter.save_as_table)"
   ]
  },
  {
   "cell_type": "code",
   "execution_count": 6,
   "metadata": {},
   "outputs": [],
   "source": [
    "target_df.write.save_as_table(table_name=\"my_table\", mode=\"overwrite\", table_type=\"temporary\")"
   ]
  },
  {
   "cell_type": "code",
   "execution_count": 7,
   "metadata": {},
   "outputs": [
    {
     "name": "stdout",
     "output_type": "stream",
     "text": [
      "-------------\n",
      "|\"A\"  |\"B\"  |\n",
      "-------------\n",
      "|1    |1    |\n",
      "|1    |2    |\n",
      "|2    |1    |\n",
      "|2    |2    |\n",
      "|3    |1    |\n",
      "|3    |2    |\n",
      "-------------\n",
      "\n"
     ]
    }
   ],
   "source": [
    "t = session.table(\"my_table\")\n",
    "t.show()"
   ]
  },
  {
   "cell_type": "markdown",
   "metadata": {},
   "source": [
    "- [Table.delete](https://docs.snowflake.com/en/developer-guide/snowpark/reference/python/latest/api/snowflake.snowpark.Table.delete#snowflake.snowpark.Table.delete)"
   ]
  },
  {
   "cell_type": "code",
   "execution_count": 8,
   "metadata": {},
   "outputs": [
    {
     "data": {
      "text/plain": [
       "DeleteResult(rows_deleted=6)"
      ]
     },
     "execution_count": 8,
     "metadata": {},
     "output_type": "execute_result"
    }
   ],
   "source": [
    "# delete all rows in a table\n",
    "t.delete()"
   ]
  },
  {
   "cell_type": "code",
   "execution_count": 9,
   "metadata": {},
   "outputs": [
    {
     "data": {
      "text/plain": [
       "[]"
      ]
     },
     "execution_count": 9,
     "metadata": {},
     "output_type": "execute_result"
    }
   ],
   "source": [
    "t.collect()"
   ]
  },
  {
   "cell_type": "code",
   "execution_count": 14,
   "metadata": {},
   "outputs": [
    {
     "name": "stdout",
     "output_type": "stream",
     "text": [
      "-------------\n",
      "|\"A\"  |\"B\"  |\n",
      "-------------\n",
      "|1    |1    |\n",
      "|1    |2    |\n",
      "|2    |1    |\n",
      "|2    |2    |\n",
      "|3    |1    |\n",
      "|3    |2    |\n",
      "-------------\n",
      "\n"
     ]
    }
   ],
   "source": [
    "target_df = session.create_dataframe([(1,1), (1,2), (2,1), (2,2), (3,1), (3,2)], schema=[\"a\", \"b\"])\n",
    "target_df.write.save_as_table(table_name=\"my_table\", mode=\"overwrite\", table_type=\"temporary\")\n",
    "t = session.table(\"my_table\")\n",
    "t.show()"
   ]
  },
  {
   "cell_type": "code",
   "execution_count": 15,
   "metadata": {},
   "outputs": [
    {
     "data": {
      "text/plain": [
       "DeleteResult(rows_deleted=2)"
      ]
     },
     "execution_count": 15,
     "metadata": {},
     "output_type": "execute_result"
    }
   ],
   "source": [
    "# Delete all rows where column \"a\" has value 1\n",
    "t.delete(col(\"A\") == 1)"
   ]
  },
  {
   "cell_type": "code",
   "execution_count": 17,
   "metadata": {},
   "outputs": [
    {
     "name": "stdout",
     "output_type": "stream",
     "text": [
      "-------------\n",
      "|\"A\"  |\"B\"  |\n",
      "-------------\n",
      "|2    |1    |\n",
      "|2    |2    |\n",
      "|3    |1    |\n",
      "|3    |2    |\n",
      "-------------\n",
      "\n"
     ]
    }
   ],
   "source": [
    "t.sort(col(\"A\"), col(\"B\")).show()"
   ]
  },
  {
   "cell_type": "code",
   "execution_count": 21,
   "metadata": {},
   "outputs": [
    {
     "name": "stdout",
     "output_type": "stream",
     "text": [
      "-------------\n",
      "|\"A\"  |\"B\"  |\n",
      "-------------\n",
      "|1    |1    |\n",
      "|1    |2    |\n",
      "|2    |1    |\n",
      "|2    |2    |\n",
      "|3    |1    |\n",
      "|3    |2    |\n",
      "-------------\n",
      "\n",
      "-------\n",
      "|\"A\"  |\n",
      "-------\n",
      "|2    |\n",
      "|3    |\n",
      "|4    |\n",
      "|5    |\n",
      "-------\n",
      "\n"
     ]
    }
   ],
   "source": [
    "target_df = session.create_dataframe([(1,1), (1,2), (2,1), (2,2), (3,1), (3,2)], schema=[\"a\", \"b\"])\n",
    "target_df.write.save_as_table(table_name=\"my_table\", mode=\"overwrite\", table_type=\"temporary\")\n",
    "t = session.table(\"my_table\")\n",
    "t.sort(col(\"A\"), col(\"B\")).show()\n",
    "\n",
    "source_df = session.create_dataframe([2,3,4,5], schema=[\"a\"])\n",
    "source_df.show()"
   ]
  },
  {
   "cell_type": "code",
   "execution_count": 22,
   "metadata": {},
   "outputs": [
    {
     "data": {
      "text/plain": [
       "DeleteResult(rows_deleted=4)"
      ]
     },
     "execution_count": 22,
     "metadata": {},
     "output_type": "execute_result"
    }
   ],
   "source": [
    "# delete all rows in this table where column \"a\" in this table is equal to column \"a\" in another dataframe\n",
    "t.delete(col(\"A\") == source_df.col(\"A\"), source_df)"
   ]
  },
  {
   "cell_type": "code",
   "execution_count": 23,
   "metadata": {},
   "outputs": [
    {
     "name": "stdout",
     "output_type": "stream",
     "text": [
      "-------------\n",
      "|\"A\"  |\"B\"  |\n",
      "-------------\n",
      "|1    |1    |\n",
      "|1    |2    |\n",
      "-------------\n",
      "\n"
     ]
    }
   ],
   "source": [
    "t.sort(col(\"A\"), col(\"B\")).show()"
   ]
  },
  {
   "cell_type": "markdown",
   "metadata": {},
   "source": [
    "- [drop_table](https://docs.snowflake.com/en/developer-guide/snowpark/reference/python/latest/api/snowflake.snowpark.Table.drop_table)"
   ]
  },
  {
   "cell_type": "code",
   "execution_count": 25,
   "metadata": {},
   "outputs": [
    {
     "name": "stdout",
     "output_type": "stream",
     "text": [
      "-----------------------------------------------------------------------------------------------------------------------------------------------------------------------------------------------------------------------------------------------------------------------------------------------------------------------------------------------------------------------------------------------------------------\n",
      "|\"created_on\"                      |\"name\"                |\"database_name\"  |\"schema_name\"  |\"kind\"     |\"comment\"  |\"cluster_by\"  |\"rows\"  |\"bytes\"  |\"owner\"   |\"retention_time\"  |\"automatic_clustering\"  |\"change_tracking\"  |\"search_optimization\"  |\"search_optimization_progress\"  |\"search_optimization_bytes\"  |\"is_external\"  |\"enable_schema_evolution\"  |\"owner_role_type\"  |\"is_event\"  |\"budget\"  |\n",
      "-----------------------------------------------------------------------------------------------------------------------------------------------------------------------------------------------------------------------------------------------------------------------------------------------------------------------------------------------------------------------------------------------------------------\n",
      "|2023-12-08 07:48:36.215000-08:00  |10tablename           |SNOWPARK_DB      |PUBLIC         |TABLE      |           |              |1       |1536     |SYSADMIN  |1                 |OFF                     |OFF                |OFF                    |NULL                            |NULL                         |N              |N                          |ROLE               |N           |NULL      |\n",
      "|2023-12-08 09:27:28.293000-08:00  |CAR_SALES             |SNOWPARK_DB      |PUBLIC         |TABLE      |           |              |2       |6144     |SYSADMIN  |1                 |OFF                     |OFF                |OFF                    |NULL                            |NULL                         |N              |N                          |ROLE               |N           |NULL      |\n",
      "|2023-12-14 16:41:29.581000-08:00  |MY_TABLE              |SNOWPARK_DB      |PUBLIC         |TEMPORARY  |           |              |2       |1024     |SYSADMIN  |1                 |OFF                     |OFF                |OFF                    |NULL                            |NULL                         |N              |N                          |ROLE               |N           |NULL      |\n",
      "|2023-12-14 16:47:34.618000-08:00  |MY_TABLE1             |SNOWPARK_DB      |PUBLIC         |TEMPORARY  |           |              |4       |1024     |SYSADMIN  |1                 |OFF                     |OFF                |OFF                    |NULL                            |NULL                         |N              |N                          |ROLE               |N           |NULL      |\n",
      "|2023-12-08 07:49:32.315000-08:00  |QUOTED                |SNOWPARK_DB      |PUBLIC         |TABLE      |           |              |1       |1024     |SYSADMIN  |1                 |OFF                     |OFF                |OFF                    |NULL                            |NULL                         |N              |N                          |ROLE               |N           |NULL      |\n",
      "|2023-12-08 17:00:04.802000-08:00  |SALES_TEST            |SNOWPARK_DB      |PUBLIC         |TABLE      |           |              |2       |6144     |SYSADMIN  |1                 |OFF                     |OFF                |OFF                    |NULL                            |NULL                         |N              |N                          |ROLE               |N           |NULL      |\n",
      "|2023-12-08 07:37:26.703000-08:00  |SAMPLE_PRODUCT_DATA   |SNOWPARK_DB      |PUBLIC         |TABLE      |           |              |12      |3072     |SYSADMIN  |1                 |OFF                     |OFF                |OFF                    |NULL                            |NULL                         |N              |N                          |ROLE               |N           |NULL      |\n",
      "|2023-12-08 08:13:49.752000-08:00  |SAMPLE_PRODUCT_DATA1  |SNOWPARK_DB      |PUBLIC         |TABLE      |           |              |12      |3072     |SYSADMIN  |1                 |OFF                     |OFF                |OFF                    |NULL                            |NULL                         |N              |N                          |ROLE               |N           |NULL      |\n",
      "|2023-12-11 11:17:24.392000-08:00  |STOCK_PRICE_HISTORY   |SNOWPARK_DB      |PUBLIC         |TABLE      |           |              |20      |2048     |SYSADMIN  |1                 |OFF                     |OFF                |OFF                    |NULL                            |NULL                         |N              |N                          |ROLE               |N           |NULL      |\n",
      "-----------------------------------------------------------------------------------------------------------------------------------------------------------------------------------------------------------------------------------------------------------------------------------------------------------------------------------------------------------------------------------------------------------------\n",
      "\n"
     ]
    }
   ],
   "source": [
    "source_df = session.create_dataframe([2,3,4,5], schema=[\"a\"])\n",
    "source_df.write.save_as_table(table_name=\"my_table1\", mode=\"overwrite\", table_type=\"temporary\")\n",
    "\n",
    "session.sql(\"show tables in schema snowpark_db.public\").show()\n"
   ]
  },
  {
   "cell_type": "code",
   "execution_count": 27,
   "metadata": {},
   "outputs": [
    {
     "name": "stdout",
     "output_type": "stream",
     "text": [
      "-----------------------------------------------------------------------------------------------------------------------------------------------------------------------------------------------------------------------------------------------------------------------------------------------------------------------------------------------------------------------------------------------------------------\n",
      "|\"created_on\"                      |\"name\"                |\"database_name\"  |\"schema_name\"  |\"kind\"     |\"comment\"  |\"cluster_by\"  |\"rows\"  |\"bytes\"  |\"owner\"   |\"retention_time\"  |\"automatic_clustering\"  |\"change_tracking\"  |\"search_optimization\"  |\"search_optimization_progress\"  |\"search_optimization_bytes\"  |\"is_external\"  |\"enable_schema_evolution\"  |\"owner_role_type\"  |\"is_event\"  |\"budget\"  |\n",
      "-----------------------------------------------------------------------------------------------------------------------------------------------------------------------------------------------------------------------------------------------------------------------------------------------------------------------------------------------------------------------------------------------------------------\n",
      "|2023-12-08 07:48:36.215000-08:00  |10tablename           |SNOWPARK_DB      |PUBLIC         |TABLE      |           |              |1       |1536     |SYSADMIN  |1                 |OFF                     |OFF                |OFF                    |NULL                            |NULL                         |N              |N                          |ROLE               |N           |NULL      |\n",
      "|2023-12-08 09:27:28.293000-08:00  |CAR_SALES             |SNOWPARK_DB      |PUBLIC         |TABLE      |           |              |2       |6144     |SYSADMIN  |1                 |OFF                     |OFF                |OFF                    |NULL                            |NULL                         |N              |N                          |ROLE               |N           |NULL      |\n",
      "|2023-12-14 16:41:29.581000-08:00  |MY_TABLE              |SNOWPARK_DB      |PUBLIC         |TEMPORARY  |           |              |2       |1024     |SYSADMIN  |1                 |OFF                     |OFF                |OFF                    |NULL                            |NULL                         |N              |N                          |ROLE               |N           |NULL      |\n",
      "|2023-12-08 07:49:32.315000-08:00  |QUOTED                |SNOWPARK_DB      |PUBLIC         |TABLE      |           |              |1       |1024     |SYSADMIN  |1                 |OFF                     |OFF                |OFF                    |NULL                            |NULL                         |N              |N                          |ROLE               |N           |NULL      |\n",
      "|2023-12-08 17:00:04.802000-08:00  |SALES_TEST            |SNOWPARK_DB      |PUBLIC         |TABLE      |           |              |2       |6144     |SYSADMIN  |1                 |OFF                     |OFF                |OFF                    |NULL                            |NULL                         |N              |N                          |ROLE               |N           |NULL      |\n",
      "|2023-12-08 07:37:26.703000-08:00  |SAMPLE_PRODUCT_DATA   |SNOWPARK_DB      |PUBLIC         |TABLE      |           |              |12      |3072     |SYSADMIN  |1                 |OFF                     |OFF                |OFF                    |NULL                            |NULL                         |N              |N                          |ROLE               |N           |NULL      |\n",
      "|2023-12-08 08:13:49.752000-08:00  |SAMPLE_PRODUCT_DATA1  |SNOWPARK_DB      |PUBLIC         |TABLE      |           |              |12      |3072     |SYSADMIN  |1                 |OFF                     |OFF                |OFF                    |NULL                            |NULL                         |N              |N                          |ROLE               |N           |NULL      |\n",
      "|2023-12-11 11:17:24.392000-08:00  |STOCK_PRICE_HISTORY   |SNOWPARK_DB      |PUBLIC         |TABLE      |           |              |20      |2048     |SYSADMIN  |1                 |OFF                     |OFF                |OFF                    |NULL                            |NULL                         |N              |N                          |ROLE               |N           |NULL      |\n",
      "-----------------------------------------------------------------------------------------------------------------------------------------------------------------------------------------------------------------------------------------------------------------------------------------------------------------------------------------------------------------------------------------------------------------\n",
      "\n"
     ]
    }
   ],
   "source": [
    "session.table(\"my_table1\").drop_table()\n",
    "session.sql(\"show tables in schema snowpark_db.public\").show()"
   ]
  },
  {
   "cell_type": "markdown",
   "metadata": {},
   "source": [
    "- [Table.merge](https://docs.snowflake.com/en/developer-guide/snowpark/reference/python/latest/api/snowflake.snowpark.Table.merge)"
   ]
  },
  {
   "cell_type": "code",
   "execution_count": 39,
   "metadata": {},
   "outputs": [
    {
     "name": "stdout",
     "output_type": "stream",
     "text": [
      "-------------------\n",
      "|\"KEY\"  |\"VALUE\"  |\n",
      "-------------------\n",
      "|10     |new      |\n",
      "|12     |new      |\n",
      "|13     |old      |\n",
      "-------------------\n",
      "\n"
     ]
    }
   ],
   "source": [
    "from snowflake.snowpark.functions import when_matched, when_not_matched\n",
    "from snowflake.snowpark.types import StructType, StructField, StringType, IntegerType, BooleanType, LongType\n",
    "\n",
    "schema = StructType([StructField(\"key\", IntegerType())\n",
    "                    ,StructField(\"value\", StringType())\n",
    "                   ])\n",
    "source_df = session.create_dataframe([(10,\"new\"),(12,\"new\"),(13,\"old\")], schema=schema)\n",
    "source_df.write.save_as_table(table_name=\"src_table\", mode=\"overwrite\", table_type=\"temporary\")\n",
    "source = session.table(\"src_table\")\n",
    "source.show()"
   ]
  },
  {
   "cell_type": "code",
   "execution_count": 40,
   "metadata": {},
   "outputs": [
    {
     "name": "stdout",
     "output_type": "stream",
     "text": [
      "-------------------\n",
      "|\"KEY\"  |\"VALUE\"  |\n",
      "-------------------\n",
      "|10     |old      |\n",
      "|10     |too_old  |\n",
      "|11     |old      |\n",
      "-------------------\n",
      "\n"
     ]
    }
   ],
   "source": [
    "from snowflake.snowpark.functions import when_matched, when_not_matched\n",
    "from snowflake.snowpark.types import StructType, StructField, StringType, IntegerType, BooleanType, LongType\n",
    "\n",
    "schema = StructType([StructField(\"key\", IntegerType())\n",
    "                    ,StructField(\"value\", StringType())\n",
    "                   ])\n",
    "\n",
    "target_df = session.create_dataframe([(10,\"old\"), (10,\"too_old\"), (11,\"old\")], schema=schema)\n",
    "target_df.write.save_as_table(table_name=\"tgt_table\", mode=\"overwrite\", table_type=\"temporary\")\n",
    "target = session.table(\"tgt_table\")\n",
    "target.show()"
   ]
  },
  {
   "cell_type": "code",
   "execution_count": 41,
   "metadata": {},
   "outputs": [
    {
     "data": {
      "text/plain": [
       "MergeResult(rows_inserted=3, rows_updated=0, rows_deleted=0)"
      ]
     },
     "execution_count": 41,
     "metadata": {},
     "output_type": "execute_result"
    }
   ],
   "source": [
    "target.merge(source, (target[\"key\"] == source[\"key\"]) & (target[\"value\"] == source[\"value\"])\n",
    "                   , [when_matched().update({\"value\": source[\"value\"]})\n",
    "                     ,when_not_matched().insert({\"key\": source[\"key\"], \"value\":source[\"value\"]})]\n",
    "             )"
   ]
  },
  {
   "cell_type": "code",
   "execution_count": 42,
   "metadata": {},
   "outputs": [
    {
     "name": "stdout",
     "output_type": "stream",
     "text": [
      "-------------------\n",
      "|\"KEY\"  |\"VALUE\"  |\n",
      "-------------------\n",
      "|10     |new      |\n",
      "|10     |old      |\n",
      "|10     |too_old  |\n",
      "|11     |old      |\n",
      "|12     |new      |\n",
      "|13     |old      |\n",
      "-------------------\n",
      "\n"
     ]
    }
   ],
   "source": [
    "target.sort(col(\"key\"), col(\"value\")).show()"
   ]
  },
  {
   "cell_type": "markdown",
   "metadata": {},
   "source": [
    "- [Table.update](https://docs.snowflake.com/en/developer-guide/snowpark/reference/python/latest/api/snowflake.snowpark.Table.update)"
   ]
  },
  {
   "cell_type": "code",
   "execution_count": 44,
   "metadata": {},
   "outputs": [
    {
     "name": "stdout",
     "output_type": "stream",
     "text": [
      "-------------\n",
      "|\"A\"  |\"B\"  |\n",
      "-------------\n",
      "|1    |1    |\n",
      "|1    |2    |\n",
      "|2    |1    |\n",
      "|2    |2    |\n",
      "|3    |1    |\n",
      "|3    |2    |\n",
      "-------------\n",
      "\n"
     ]
    }
   ],
   "source": [
    "target_df = session.create_dataframe([(1,1),(1,2),(2,1),(2,2),(3,1),(3,2)], schema=[\"a\",\"b\"])\n",
    "target_df.write.save_as_table(table_name=\"upd_table\", mode=\"overwrite\", table_type=\"temporary\")\n",
    "t = session.table(\"upd_table\")\n",
    "t.sort(col(\"a\"), col(\"b\")).show()"
   ]
  },
  {
   "cell_type": "code",
   "execution_count": 46,
   "metadata": {},
   "outputs": [
    {
     "data": {
      "text/plain": [
       "UpdateResult(rows_updated=6, multi_joined_rows_updated=0)"
      ]
     },
     "execution_count": 46,
     "metadata": {},
     "output_type": "execute_result"
    }
   ],
   "source": [
    "# Update all rows in column \"b\" to 0 and all rows in column \"a\" to the summation of column \"a\" and column \"b\"\n",
    "t.update({\"b\":0, \"a\": t.a + t.b})"
   ]
  },
  {
   "cell_type": "code",
   "execution_count": 47,
   "metadata": {},
   "outputs": [
    {
     "name": "stdout",
     "output_type": "stream",
     "text": [
      "-------------\n",
      "|\"A\"  |\"B\"  |\n",
      "-------------\n",
      "|2    |0    |\n",
      "|3    |0    |\n",
      "|3    |0    |\n",
      "|4    |0    |\n",
      "|4    |0    |\n",
      "|5    |0    |\n",
      "-------------\n",
      "\n"
     ]
    }
   ],
   "source": [
    "t.sort(col(\"a\"), col(\"b\")).show()"
   ]
  },
  {
   "cell_type": "code",
   "execution_count": 48,
   "metadata": {},
   "outputs": [
    {
     "name": "stdout",
     "output_type": "stream",
     "text": [
      "-------\n",
      "|\"A\"  |\n",
      "-------\n",
      "|1    |\n",
      "|2    |\n",
      "|3    |\n",
      "|4    |\n",
      "-------\n",
      "\n",
      "-------------\n",
      "|\"A\"  |\"B\"  |\n",
      "-------------\n",
      "|1    |1    |\n",
      "|1    |2    |\n",
      "|2    |1    |\n",
      "|2    |2    |\n",
      "|3    |1    |\n",
      "|3    |2    |\n",
      "-------------\n",
      "\n"
     ]
    }
   ],
   "source": [
    "source_df = session.create_dataframe([1, 2, 3, 4], schema=[\"a\"])\n",
    "source_df.show()\n",
    "\n",
    "target_df = session.create_dataframe([(1,1),(1,2),(2,1),(2,2),(3,1),(3,2)], schema=[\"a\",\"b\"])\n",
    "target_df.write.save_as_table(\"tgt_table\", mode=\"overwrite\", table_type=\"temporary\")\n",
    "t = session.table(\"tgt_table\")\n",
    "t.show()"
   ]
  },
  {
   "cell_type": "code",
   "execution_count": 49,
   "metadata": {},
   "outputs": [
    {
     "data": {
      "text/plain": [
       "UpdateResult(rows_updated=6, multi_joined_rows_updated=0)"
      ]
     },
     "execution_count": 49,
     "metadata": {},
     "output_type": "execute_result"
    }
   ],
   "source": [
    "# Update all rows in column \"b\" to 0 where column \"a\" in this table equal to column \"a\" in another dataframe\n",
    "t.update({\"b\":0}, t[\"a\"]==source_df.a, source_df)"
   ]
  },
  {
   "cell_type": "code",
   "execution_count": 50,
   "metadata": {},
   "outputs": [
    {
     "name": "stdout",
     "output_type": "stream",
     "text": [
      "-------------\n",
      "|\"A\"  |\"B\"  |\n",
      "-------------\n",
      "|1    |0    |\n",
      "|1    |0    |\n",
      "|2    |0    |\n",
      "|2    |0    |\n",
      "|3    |0    |\n",
      "|3    |0    |\n",
      "-------------\n",
      "\n"
     ]
    }
   ],
   "source": [
    "t.sort(col(\"a\"), col(\"b\")).show()"
   ]
  },
  {
   "cell_type": "code",
   "execution_count": null,
   "metadata": {},
   "outputs": [],
   "source": []
  },
  {
   "cell_type": "code",
   "execution_count": 51,
   "metadata": {},
   "outputs": [],
   "source": [
    "# Close Snowpark session\n",
    "session.close()"
   ]
  }
 ],
 "metadata": {
  "kernelspec": {
   "display_name": "snowpark10",
   "language": "python",
   "name": "python3"
  },
  "language_info": {
   "codemirror_mode": {
    "name": "ipython",
    "version": 3
   },
   "file_extension": ".py",
   "mimetype": "text/x-python",
   "name": "python",
   "nbconvert_exporter": "python",
   "pygments_lexer": "ipython3",
   "version": "3.10.13"
  }
 },
 "nbformat": 4,
 "nbformat_minor": 2
}
