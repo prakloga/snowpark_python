{
 "cells": [
  {
   "cell_type": "code",
   "execution_count": 1,
   "metadata": {},
   "outputs": [],
   "source": [
    "import os\n",
    "import sys\n",
    "import json\n",
    "import math\n",
    "import cachetools\n",
    "import numpy as np\n",
    "import pandas as pd\n",
    "import configparser\n",
    "from snowflake.snowpark import Session\n",
    "from copy import copy\n",
    "from snowflake.snowpark import Row\n",
    "import snowflake.snowpark.functions as F\n",
    "from snowflake.snowpark.functions import col, lit, sql_expr, get, get_path, udf, udtf, table_function, sproc, seq8, uniform, when_matched, when_not_matched, cast, try_cast, asc, asc_nulls_first, asc_nulls_last, collate, startswith, endswith, equal_nan, is_null, in_, when\n",
    "from snowflake.snowpark.types import StructType, StructField, StringType, IntegerType, DecimalType, LongType, BooleanType, FloatType, PandasSeries, PandasSeriesType, PandasDataFrame, PandasDataFrameType\n",
    "from snowflake.snowpark.exceptions import SnowparkJoinException, SnowparkSQLException\n",
    "from snowflake.snowpark.files import SnowflakeFile\n",
    "from snowflake.snowpark.column import METADATA_FILENAME, METADATA_FILE_ROW_NUMBER\n",
    "from collections import Counter\n",
    "from typing import Iterable, Tuple\n",
    "\n",
    "# Read snowflake credentials securely\n",
    "config = configparser.ConfigParser()\n",
    "config.read('assets/credentials.cfg')\n",
    "\n",
    "connection_parameters = dict(\n",
    "   account   =  config['SNOWPARKAWS']['SNOWFLAKE_ACCOUNT'],\n",
    "   user      =  config['SNOWPARKAWS']['SNOWFLAKE_USER'],\n",
    "   password  =  config['SNOWPARKAWS']['SNOWFLAKE_PASSWORD'],\n",
    "   role      =  config['SNOWPARKAWS']['SNOWFLAKE_ROLE'],  # optional\n",
    "   warehouse =  config['SNOWPARKAWS']['SNOWFLAKE_WAREHOUSE'],  # optional\n",
    "   database  =  config['SNOWPARKAWS']['SNOWFLAKE_DATABASE'],  # optional\n",
    "   schema    =  config['SNOWPARKAWS']['SNOWFLAKE_SCHEMA'],  # optional\n",
    ")\n",
    "\n",
    "# Pass this dictionary to the Session.builder.configs method to return a builder object that has these connection parameters.\n",
    "# Call the create method of the builder to establish the session.\n",
    "session = Session.builder.configs(connection_parameters).create()"
   ]
  },
  {
   "cell_type": "markdown",
   "metadata": {},
   "source": [
    "#### `First table is CUST_INFO and insert 1000 customers into it using this new Python UDTF.`"
   ]
  },
  {
   "cell_type": "code",
   "execution_count": 2,
   "metadata": {},
   "outputs": [
    {
     "data": {
      "text/plain": [
       "[Row(status='Function GEN_CUST_INFO successfully created.')]"
      ]
     },
     "execution_count": 2,
     "metadata": {},
     "output_type": "execute_result"
    }
   ],
   "source": [
    "session.sql(\"\"\"create or replace function gen_cust_info(num_records number)\n",
    "returns table (custid number(10), cname varchar(100), spendlimit number(10,2))\n",
    "language python\n",
    "runtime_version=3.8\n",
    "handler='CustTab'\n",
    "packages = ('Faker')\n",
    "as $$\n",
    "from faker import Faker\n",
    "import random\n",
    "fake = Faker()\n",
    "# Generate a list of customers  \n",
    "\n",
    "class CustTab:\n",
    "    # Generate multiple customer records\n",
    "    def process(self, num_records):\n",
    "        customer_id = 1000 # Starting customer ID                 \n",
    "        for _ in range(num_records):\n",
    "            custid = customer_id + 1\n",
    "            cname = fake.name()\n",
    "            spendlimit = round(random.uniform(1000, 10000),2)\n",
    "            customer_id += 1\n",
    "            yield (custid,cname,spendlimit)\n",
    "\n",
    "$$;\n",
    "\"\"\").collect()"
   ]
  },
  {
   "cell_type": "code",
   "execution_count": 14,
   "metadata": {},
   "outputs": [
    {
     "name": "stdout",
     "output_type": "stream",
     "text": [
      "-------------------------------------------------------------\n",
      "|\"catalog_name\"  |\"schema_name\"  |\"name\"                    |\n",
      "-------------------------------------------------------------\n",
      "|DEMO_DB         |DT_DEMO        |GEN_CUST_INFO             |\n",
      "|                |               |SYSTEM$TASK_RUNTIME_INFO  |\n",
      "-------------------------------------------------------------\n",
      "\n"
     ]
    }
   ],
   "source": [
    "session.sql(\"show functions like '%_info' in schema demo_db.dt_demo\").select(col('\"catalog_name\"'), col('\"schema_name\"'),col('\"name\"')).show()"
   ]
  },
  {
   "cell_type": "code",
   "execution_count": 15,
   "metadata": {},
   "outputs": [
    {
     "data": {
      "text/plain": [
       "[Row(status='Table CUST_INFO successfully created.')]"
      ]
     },
     "execution_count": 15,
     "metadata": {},
     "output_type": "execute_result"
    }
   ],
   "source": [
    "session.sql(\"\"\"\n",
    "create or replace table cust_info as select * from table(gen_cust_info(1000)) order by 1\n",
    "\"\"\").collect()"
   ]
  },
  {
   "cell_type": "code",
   "execution_count": 16,
   "metadata": {},
   "outputs": [
    {
     "data": {
      "text/html": [
       "<div>\n",
       "<style scoped>\n",
       "    .dataframe tbody tr th:only-of-type {\n",
       "        vertical-align: middle;\n",
       "    }\n",
       "\n",
       "    .dataframe tbody tr th {\n",
       "        vertical-align: top;\n",
       "    }\n",
       "\n",
       "    .dataframe thead th {\n",
       "        text-align: right;\n",
       "    }\n",
       "</style>\n",
       "<table border=\"1\" class=\"dataframe\">\n",
       "  <thead>\n",
       "    <tr style=\"text-align: right;\">\n",
       "      <th></th>\n",
       "      <th>CUSTID</th>\n",
       "      <th>CNAME</th>\n",
       "      <th>SPENDLIMIT</th>\n",
       "    </tr>\n",
       "  </thead>\n",
       "  <tbody>\n",
       "    <tr>\n",
       "      <th>0</th>\n",
       "      <td>1626</td>\n",
       "      <td>Brooke Logan</td>\n",
       "      <td>5263.54</td>\n",
       "    </tr>\n",
       "    <tr>\n",
       "      <th>1</th>\n",
       "      <td>1627</td>\n",
       "      <td>Rebecca Fuentes</td>\n",
       "      <td>1916.42</td>\n",
       "    </tr>\n",
       "    <tr>\n",
       "      <th>2</th>\n",
       "      <td>1628</td>\n",
       "      <td>Cody Jackson</td>\n",
       "      <td>2503.86</td>\n",
       "    </tr>\n",
       "    <tr>\n",
       "      <th>3</th>\n",
       "      <td>1629</td>\n",
       "      <td>Glenda Rhodes</td>\n",
       "      <td>5280.69</td>\n",
       "    </tr>\n",
       "    <tr>\n",
       "      <th>4</th>\n",
       "      <td>1630</td>\n",
       "      <td>Christopher Shannon</td>\n",
       "      <td>8311.59</td>\n",
       "    </tr>\n",
       "    <tr>\n",
       "      <th>5</th>\n",
       "      <td>1631</td>\n",
       "      <td>Todd Davis</td>\n",
       "      <td>8748.66</td>\n",
       "    </tr>\n",
       "    <tr>\n",
       "      <th>6</th>\n",
       "      <td>1632</td>\n",
       "      <td>Clifford Brown</td>\n",
       "      <td>3328.38</td>\n",
       "    </tr>\n",
       "    <tr>\n",
       "      <th>7</th>\n",
       "      <td>1633</td>\n",
       "      <td>Anne Collins DDS</td>\n",
       "      <td>5700.27</td>\n",
       "    </tr>\n",
       "    <tr>\n",
       "      <th>8</th>\n",
       "      <td>1634</td>\n",
       "      <td>Gregory Lopez</td>\n",
       "      <td>3865.13</td>\n",
       "    </tr>\n",
       "    <tr>\n",
       "      <th>9</th>\n",
       "      <td>1635</td>\n",
       "      <td>Gregory Rivas</td>\n",
       "      <td>3853.00</td>\n",
       "    </tr>\n",
       "  </tbody>\n",
       "</table>\n",
       "</div>"
      ],
      "text/plain": [
       "   CUSTID                CNAME  SPENDLIMIT\n",
       "0    1626         Brooke Logan     5263.54\n",
       "1    1627      Rebecca Fuentes     1916.42\n",
       "2    1628         Cody Jackson     2503.86\n",
       "3    1629        Glenda Rhodes     5280.69\n",
       "4    1630  Christopher Shannon     8311.59\n",
       "5    1631           Todd Davis     8748.66\n",
       "6    1632       Clifford Brown     3328.38\n",
       "7    1633     Anne Collins DDS     5700.27\n",
       "8    1634        Gregory Lopez     3865.13\n",
       "9    1635        Gregory Rivas     3853.00"
      ]
     },
     "execution_count": 16,
     "metadata": {},
     "output_type": "execute_result"
    }
   ],
   "source": [
    "session.table(\"CUST_INFO\").limit(10).to_pandas()"
   ]
  },
  {
   "cell_type": "markdown",
   "metadata": {},
   "source": [
    "#### `Next table is PROD_STOCK_INV and insert 100 products inventory into it using this new Python UDTF.`"
   ]
  },
  {
   "cell_type": "code",
   "execution_count": 18,
   "metadata": {},
   "outputs": [
    {
     "data": {
      "text/plain": [
       "[Row(status='Function GEN_PROD_INV successfully created.')]"
      ]
     },
     "execution_count": 18,
     "metadata": {},
     "output_type": "execute_result"
    }
   ],
   "source": [
    "session.sql(\"\"\"create or replace function gen_prod_inv(num_records number)\n",
    "returns table (pid number(10), pname varchar(100), stock number(10,2), stockdate date)\n",
    "language python\n",
    "runtime_version=3.10\n",
    "handler='ProdTab'\n",
    "packages = ('Faker')\n",
    "as $$\n",
    "from faker import Faker\n",
    "import random\n",
    "from datetime import datetime, timedelta\n",
    "fake = Faker()\n",
    "\n",
    "class ProdTab:\n",
    "    # Generate multiple product records\n",
    "    def process(self, num_records):\n",
    "        product_id = 100 # Starting customer ID                 \n",
    "        for _ in range(num_records):\n",
    "            pid = product_id + 1\n",
    "            pname = fake.catch_phrase()\n",
    "            stock = round(random.uniform(500, 1000),0)\n",
    "            # Get the current date\n",
    "            current_date = datetime.now()\n",
    "            \n",
    "            # Calculate the maximum date (3 months from now)\n",
    "            min_date = current_date - timedelta(days=90)\n",
    "            \n",
    "            # Generate a random date within the date range\n",
    "            stockdate = fake.date_between_dates(min_date,current_date)\n",
    "\n",
    "            product_id += 1\n",
    "            yield (pid,pname,stock,stockdate)\n",
    "\n",
    "$$;\n",
    "\"\"\").collect()"
   ]
  },
  {
   "cell_type": "code",
   "execution_count": 19,
   "metadata": {},
   "outputs": [
    {
     "data": {
      "text/plain": [
       "[Row(status='Table PROD_STOCK_INV successfully created.')]"
      ]
     },
     "execution_count": 19,
     "metadata": {},
     "output_type": "execute_result"
    }
   ],
   "source": [
    "session.sql(f\"\"\"create or replace table prod_stock_inv as select * from table(gen_prod_inv(100)) order by 1\"\"\").collect()"
   ]
  },
  {
   "cell_type": "code",
   "execution_count": 20,
   "metadata": {},
   "outputs": [
    {
     "data": {
      "text/html": [
       "<div>\n",
       "<style scoped>\n",
       "    .dataframe tbody tr th:only-of-type {\n",
       "        vertical-align: middle;\n",
       "    }\n",
       "\n",
       "    .dataframe tbody tr th {\n",
       "        vertical-align: top;\n",
       "    }\n",
       "\n",
       "    .dataframe thead th {\n",
       "        text-align: right;\n",
       "    }\n",
       "</style>\n",
       "<table border=\"1\" class=\"dataframe\">\n",
       "  <thead>\n",
       "    <tr style=\"text-align: right;\">\n",
       "      <th></th>\n",
       "      <th>PID</th>\n",
       "      <th>PNAME</th>\n",
       "      <th>STOCK</th>\n",
       "      <th>STOCKDATE</th>\n",
       "    </tr>\n",
       "  </thead>\n",
       "  <tbody>\n",
       "    <tr>\n",
       "      <th>0</th>\n",
       "      <td>188</td>\n",
       "      <td>Inverse radical data-warehouse</td>\n",
       "      <td>923.0</td>\n",
       "      <td>2023-10-21</td>\n",
       "    </tr>\n",
       "    <tr>\n",
       "      <th>1</th>\n",
       "      <td>189</td>\n",
       "      <td>Quality-focused motivating open system</td>\n",
       "      <td>564.0</td>\n",
       "      <td>2023-09-23</td>\n",
       "    </tr>\n",
       "    <tr>\n",
       "      <th>2</th>\n",
       "      <td>190</td>\n",
       "      <td>Organic multi-tasking workforce</td>\n",
       "      <td>593.0</td>\n",
       "      <td>2023-12-12</td>\n",
       "    </tr>\n",
       "    <tr>\n",
       "      <th>3</th>\n",
       "      <td>191</td>\n",
       "      <td>Re-contextualized global software</td>\n",
       "      <td>679.0</td>\n",
       "      <td>2023-11-30</td>\n",
       "    </tr>\n",
       "    <tr>\n",
       "      <th>4</th>\n",
       "      <td>192</td>\n",
       "      <td>Intuitive grid-enabled toolset</td>\n",
       "      <td>980.0</td>\n",
       "      <td>2023-11-17</td>\n",
       "    </tr>\n",
       "    <tr>\n",
       "      <th>5</th>\n",
       "      <td>193</td>\n",
       "      <td>Reverse-engineered zero administration support</td>\n",
       "      <td>582.0</td>\n",
       "      <td>2023-11-15</td>\n",
       "    </tr>\n",
       "    <tr>\n",
       "      <th>6</th>\n",
       "      <td>194</td>\n",
       "      <td>Public-key neutral core</td>\n",
       "      <td>738.0</td>\n",
       "      <td>2023-12-08</td>\n",
       "    </tr>\n",
       "    <tr>\n",
       "      <th>7</th>\n",
       "      <td>195</td>\n",
       "      <td>Stand-alone bandwidth-monitored time-frame</td>\n",
       "      <td>562.0</td>\n",
       "      <td>2023-11-11</td>\n",
       "    </tr>\n",
       "    <tr>\n",
       "      <th>8</th>\n",
       "      <td>196</td>\n",
       "      <td>Organic intermediate access</td>\n",
       "      <td>739.0</td>\n",
       "      <td>2023-10-11</td>\n",
       "    </tr>\n",
       "    <tr>\n",
       "      <th>9</th>\n",
       "      <td>197</td>\n",
       "      <td>Organic static database</td>\n",
       "      <td>984.0</td>\n",
       "      <td>2023-10-01</td>\n",
       "    </tr>\n",
       "  </tbody>\n",
       "</table>\n",
       "</div>"
      ],
      "text/plain": [
       "   PID                                           PNAME  STOCK   STOCKDATE\n",
       "0  188                  Inverse radical data-warehouse  923.0  2023-10-21\n",
       "1  189          Quality-focused motivating open system  564.0  2023-09-23\n",
       "2  190                 Organic multi-tasking workforce  593.0  2023-12-12\n",
       "3  191               Re-contextualized global software  679.0  2023-11-30\n",
       "4  192                  Intuitive grid-enabled toolset  980.0  2023-11-17\n",
       "5  193  Reverse-engineered zero administration support  582.0  2023-11-15\n",
       "6  194                         Public-key neutral core  738.0  2023-12-08\n",
       "7  195      Stand-alone bandwidth-monitored time-frame  562.0  2023-11-11\n",
       "8  196                     Organic intermediate access  739.0  2023-10-11\n",
       "9  197                         Organic static database  984.0  2023-10-01"
      ]
     },
     "execution_count": 20,
     "metadata": {},
     "output_type": "execute_result"
    }
   ],
   "source": [
    "session.table(\"PROD_STOCK_INV\").limit(10).to_pandas()"
   ]
  },
  {
   "cell_type": "markdown",
   "metadata": {},
   "source": [
    "#### `Next table is SALESDATA to store raw product sales by customer and purchase date`"
   ]
  },
  {
   "cell_type": "code",
   "execution_count": 25,
   "metadata": {},
   "outputs": [
    {
     "data": {
      "text/plain": [
       "[Row(status='Function GEN_CUST_PURCHASE successfully created.')]"
      ]
     },
     "execution_count": 25,
     "metadata": {},
     "output_type": "execute_result"
    }
   ],
   "source": [
    "session.sql(\"\"\"create or replace function gen_cust_purchase(num_records number, ndays number)\n",
    "returns table(custid number(10), purchase variant)\n",
    "language python\n",
    "runtime_version=3.10\n",
    "handler='genCustPurchase'\n",
    "packages=('Faker')\n",
    "as\n",
    "$$\n",
    "from faker import Faker\n",
    "import random\n",
    "from datetime import datetime, timedelta\n",
    "\n",
    "fake = Faker()\n",
    "\n",
    "class genCustPurchase:\n",
    "    # Generate multiple customer purchase records\n",
    "    def process(self, num_records, ndays):\n",
    "        for _ in range(num_records):\n",
    "            c_id = fake.random_int(min=1001, max=1999)\n",
    "\n",
    "            customer_purchase = {\n",
    "                 'custid':c_id\n",
    "                ,'purchased':[]\n",
    "            }\n",
    "\n",
    "            # Get the current date\n",
    "            current_date = datetime.now()\n",
    "\n",
    "            # Calculate the maximum date(days from now)\n",
    "            min_date = current_date - timedelta(days=ndays)\n",
    "\n",
    "            # Generate a random date within the date range\n",
    "            pdate = fake.date_between_dates(min_date, current_date)\n",
    "\n",
    "            purchase ={\n",
    "                'prodid':fake.random_int(min=101, max=199)\n",
    "               ,'quantity':fake.random_int(min=1, max=5)\n",
    "               ,'purchase_amount':round(random.uniform(10, 1000),2)\n",
    "               ,'purchase_date':pdate\n",
    "            }\n",
    "\n",
    "            customer_purchase['purchased'].append(purchase)\n",
    "\n",
    "            yield(c_id, purchase)\n",
    "\n",
    "$$;\n",
    "\"\"\").collect()\n"
   ]
  },
  {
   "cell_type": "code",
   "execution_count": 26,
   "metadata": {},
   "outputs": [
    {
     "data": {
      "text/plain": [
       "[Row(status='Table SALESDATA successfully created.')]"
      ]
     },
     "execution_count": 26,
     "metadata": {},
     "output_type": "execute_result"
    }
   ],
   "source": [
    "# Create table and insert records\n",
    "session.sql(f\"\"\"create or replace table salesdata as select * from table(gen_cust_purchase(10000,10))\"\"\").collect()"
   ]
  },
  {
   "cell_type": "code",
   "execution_count": 30,
   "metadata": {},
   "outputs": [
    {
     "name": "stdout",
     "output_type": "stream",
     "text": [
      "-----------------------------------------------\n",
      "|\"CUSTID\"  |\"PURCHASE\"                        |\n",
      "-----------------------------------------------\n",
      "|1990      |{                                 |\n",
      "|          |  \"prodid\": 196,                  |\n",
      "|          |  \"purchase_amount\": 388.71,      |\n",
      "|          |  \"purchase_date\": \"2023-12-12\",  |\n",
      "|          |  \"quantity\": 5                   |\n",
      "|          |}                                 |\n",
      "|1827      |{                                 |\n",
      "|          |  \"prodid\": 193,                  |\n",
      "|          |  \"purchase_amount\": 57.87,       |\n",
      "|          |  \"purchase_date\": \"2023-12-15\",  |\n",
      "|          |  \"quantity\": 1                   |\n",
      "|          |}                                 |\n",
      "|1279      |{                                 |\n",
      "|          |  \"prodid\": 197,                  |\n",
      "|          |  \"purchase_amount\": 950.96,      |\n",
      "|          |  \"purchase_date\": \"2023-12-17\",  |\n",
      "|          |  \"quantity\": 3                   |\n",
      "|          |}                                 |\n",
      "|1491      |{                                 |\n",
      "|          |  \"prodid\": 162,                  |\n",
      "|          |  \"purchase_amount\": 90.48,       |\n",
      "|          |  \"purchase_date\": \"2023-12-17\",  |\n",
      "|          |  \"quantity\": 5                   |\n",
      "|          |}                                 |\n",
      "|1959      |{                                 |\n",
      "|          |  \"prodid\": 182,                  |\n",
      "|          |  \"purchase_amount\": 532.37,      |\n",
      "|          |  \"purchase_date\": \"2023-12-17\",  |\n",
      "|          |  \"quantity\": 2                   |\n",
      "|          |}                                 |\n",
      "|1974      |{                                 |\n",
      "|          |  \"prodid\": 168,                  |\n",
      "|          |  \"purchase_amount\": 446.34,      |\n",
      "|          |  \"purchase_date\": \"2023-12-16\",  |\n",
      "|          |  \"quantity\": 4                   |\n",
      "|          |}                                 |\n",
      "|1924      |{                                 |\n",
      "|          |  \"prodid\": 160,                  |\n",
      "|          |  \"purchase_amount\": 136.79,      |\n",
      "|          |  \"purchase_date\": \"2023-12-11\",  |\n",
      "|          |  \"quantity\": 1                   |\n",
      "|          |}                                 |\n",
      "|1578      |{                                 |\n",
      "|          |  \"prodid\": 117,                  |\n",
      "|          |  \"purchase_amount\": 270.74,      |\n",
      "|          |  \"purchase_date\": \"2023-12-18\",  |\n",
      "|          |  \"quantity\": 3                   |\n",
      "|          |}                                 |\n",
      "|1708      |{                                 |\n",
      "|          |  \"prodid\": 192,                  |\n",
      "|          |  \"purchase_amount\": 413.69,      |\n",
      "|          |  \"purchase_date\": \"2023-12-19\",  |\n",
      "|          |  \"quantity\": 5                   |\n",
      "|          |}                                 |\n",
      "|1096      |{                                 |\n",
      "|          |  \"prodid\": 163,                  |\n",
      "|          |  \"purchase_amount\": 94.4,        |\n",
      "|          |  \"purchase_date\": \"2023-12-11\",  |\n",
      "|          |  \"quantity\": 1                   |\n",
      "|          |}                                 |\n",
      "-----------------------------------------------\n",
      "\n"
     ]
    }
   ],
   "source": [
    "session.table(\"SALESDATA\").show(10)"
   ]
  },
  {
   "cell_type": "code",
   "execution_count": 34,
   "metadata": {},
   "outputs": [
    {
     "name": "stdout",
     "output_type": "stream",
     "text": [
      "--------------------------------------------------------------------------------------------------------------------------------------------------------------------------------------------------------------------------------------------------------------------------------------------------------------------------------------------------------------------------------------------------------\n",
      "|\"created_on\"                      |\"name\"          |\"database_name\"  |\"schema_name\"  |\"kind\"  |\"comment\"  |\"cluster_by\"  |\"rows\"  |\"bytes\"  |\"owner\"   |\"retention_time\"  |\"automatic_clustering\"  |\"change_tracking\"  |\"search_optimization\"  |\"search_optimization_progress\"  |\"search_optimization_bytes\"  |\"is_external\"  |\"enable_schema_evolution\"  |\"owner_role_type\"  |\"is_event\"  |\"budget\"  |\n",
      "--------------------------------------------------------------------------------------------------------------------------------------------------------------------------------------------------------------------------------------------------------------------------------------------------------------------------------------------------------------------------------------------------------\n",
      "|2023-12-19 17:48:09.353000-08:00  |CUST_INFO       |DEMO_DB          |DT_DEMO        |TABLE   |           |              |1000    |28672    |SYSADMIN  |1                 |OFF                     |OFF                |OFF                    |NULL                            |NULL                         |N              |N                          |ROLE               |N           |NULL      |\n",
      "|2023-12-19 18:17:16.052000-08:00  |PROD_STOCK_INV  |DEMO_DB          |DT_DEMO        |TABLE   |           |              |100     |16384    |SYSADMIN  |1                 |OFF                     |OFF                |OFF                    |NULL                            |NULL                         |N              |N                          |ROLE               |N           |NULL      |\n",
      "|2023-12-19 18:39:37.398000-08:00  |SALESDATA       |DEMO_DB          |DT_DEMO        |TABLE   |           |              |10000   |68608    |SYSADMIN  |1                 |OFF                     |OFF                |OFF                    |NULL                            |NULL                         |N              |N                          |ROLE               |N           |NULL      |\n",
      "--------------------------------------------------------------------------------------------------------------------------------------------------------------------------------------------------------------------------------------------------------------------------------------------------------------------------------------------------------------------------------------------------------\n",
      "\n"
     ]
    }
   ],
   "source": [
    "session.sql(\"show tables in schema demo_db.dt_demo\").show()"
   ]
  },
  {
   "cell_type": "code",
   "execution_count": 35,
   "metadata": {},
   "outputs": [],
   "source": [
    "# Close Snowpark session\n",
    "session.close()"
   ]
  }
 ],
 "metadata": {
  "kernelspec": {
   "display_name": "snowpark310",
   "language": "python",
   "name": "python3"
  },
  "language_info": {
   "codemirror_mode": {
    "name": "ipython",
    "version": 3
   },
   "file_extension": ".py",
   "mimetype": "text/x-python",
   "name": "python",
   "nbconvert_exporter": "python",
   "pygments_lexer": "ipython3",
   "version": "3.10.13"
  }
 },
 "nbformat": 4,
 "nbformat_minor": 2
}
