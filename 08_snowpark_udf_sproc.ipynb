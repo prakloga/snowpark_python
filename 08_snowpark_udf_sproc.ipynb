{
 "cells": [
  {
   "cell_type": "code",
   "execution_count": 2,
   "metadata": {},
   "outputs": [],
   "source": [
    "import os\n",
    "import sys\n",
    "import json\n",
    "import math\n",
    "import cachetools\n",
    "import numpy as np\n",
    "import pandas as pd\n",
    "import configparser\n",
    "from snowflake.snowpark import Session\n",
    "from copy import copy\n",
    "from snowflake.snowpark import Row\n",
    "import snowflake.snowpark.functions as F\n",
    "from snowflake.snowpark.functions import col, lit, sql_expr, get, get_path, udf, udtf, table_function, sproc, seq8, uniform, when_matched, when_not_matched, cast, try_cast, asc, asc_nulls_first, asc_nulls_last, collate, startswith, endswith, equal_nan, is_null, in_, when\n",
    "from snowflake.snowpark.types import StructType, StructField, StringType, IntegerType, DecimalType, LongType, PandasSeries, PandasSeriesType, PandasDataFrame, PandasDataFrameType\n",
    "from snowflake.snowpark.exceptions import SnowparkJoinException, SnowparkSQLException\n",
    "from snowflake.snowpark.files import SnowflakeFile\n",
    "from snowflake.snowpark.column import METADATA_FILENAME, METADATA_FILE_ROW_NUMBER\n",
    "\n",
    "# Read snowflake credentials securely\n",
    "config = configparser.ConfigParser()\n",
    "config.read('assets/credentials.cfg')\n",
    "\n",
    "connection_parameters = dict(\n",
    "   account   =  config['SNOWPARKAWS']['SNOWFLAKE_ACCOUNT'],\n",
    "   user      =  config['SNOWPARKAWS']['SNOWFLAKE_USER'],\n",
    "   password  =  config['SNOWPARKAWS']['SNOWFLAKE_PASSWORD'],\n",
    "   role      =  config['SNOWPARKAWS']['SNOWFLAKE_ROLE'],  # optional\n",
    "   warehouse =  config['SNOWPARKAWS']['SNOWFLAKE_WAREHOUSE'],  # optional\n",
    "   database  =  config['SNOWPARKAWS']['SNOWFLAKE_DATABASE'],  # optional\n",
    "   schema    =  config['SNOWPARKAWS']['SNOWFLAKE_SCHEMA'],  # optional\n",
    ")\n",
    "\n",
    "# Pass this dictionary to the Session.builder.configs method to return a builder object that has these connection parameters.\n",
    "# Call the create method of the builder to establish the session.\n",
    "session = Session.builder.configs(connection_parameters).create()"
   ]
  },
  {
   "cell_type": "markdown",
   "metadata": {},
   "source": [
    "#### `Snowflake Stored Procedures`\n",
    "\n",
    "snowflake.snowpark.stored_procedure.StoredProcedure encapsulates a user defined lambda or function that is returned by [sproc()](https://docs.snowflake.com/en/developer-guide/snowpark/reference/python/latest/api/snowflake.snowpark.functions.sproc.html#snowflake.snowpark.functions.sproc), [StoredProcedureRegistration.register()](https://docs.snowflake.com/en/developer-guide/snowpark/reference/python/latest/api/snowflake.snowpark.stored_procedure.StoredProcedureRegistration.register.html#snowflake.snowpark.stored_procedure.StoredProcedureRegistration.register) or [StoredProcedureRegistration.register_from_file()](https://docs.snowflake.com/en/developer-guide/snowpark/reference/python/latest/api/snowflake.snowpark.stored_procedure.StoredProcedureRegistration.register_from_file.html#snowflake.snowpark.stored_procedure.StoredProcedureRegistration.register_from_file). The constructor of this class is not supposed to be called directly.\n",
    "\n",
    "\n",
    "### StoredProcedureRegistration \n",
    "\n",
    "snowflake.snowpark.stored_procedure.StoredProcedureRegistration provides methods to register lambdas and functions as stored procedures in the Snowflake database. \n",
    "\n",
    "- ***session.sproc*** returns an object of this class. You can use this object to register stored procedures that you plan to use in the current session or permanently. The methods that register a stored procedure return a StoredProcedure object.\n",
    "- **The first parameter of your function should be a snowpark Session**. Also, you need to add snowflake-snowpark-python package (version >= 0.4.0) to your session before trying to create a stored procedure.\n",
    "\n",
    "#### Ways to Register Stored Procedure\n",
    "\n",
    "- Use sproc() or [register()](https://docs.snowflake.com/en/developer-guide/snowpark/reference/python/latest/api/snowflake.snowpark.stored_procedure.StoredProcedureRegistration.register#snowflake.snowpark.stored_procedure.StoredProcedureRegistration.register).\n",
    "- Use register_from_file().\n",
    "\n",
    "Additional Reference Codes for registering stored procedures using Snowflake snowpark API - [here](https://docs.snowflake.com/developer-guide/snowpark/reference/python/latest/api/snowflake.snowpark.stored_procedure.StoredProcedureRegistration)\n",
    "\n",
    "\n",
    "---------------------------------------\n",
    "\n",
    "### Snowflake Snowpark supported data types for the parameters\n",
    "\n",
    "Snowflake supports the following [data types](https://docs.snowflake.com/developer-guide/snowpark/reference/python/latest/api/snowflake.snowpark.stored_procedure.StoredProcedureRegistration) for the parameters for a stored procedure:\n",
    "\n",
    "\n",
    "| Python Type | Snowpark Type | SQL Type | \n",
    "|--|--|--|\n",
    "| int |  LongType | NUMBER | \n",
    "| decimal.Decimal | DecimalType | NUMBER |\n",
    "| float | FloatType | FLOAT |\n",
    "| str | StringType | STRING |\n",
    "| bool | BooleanType | BOOL |\n",
    "| datetime.time | TimeType | TIME |\n",
    "| datetime.date | DateType | DATE |\n",
    "| datetime.datetime | TimestampType | TIMESTAMP |\n",
    "| bytes or bytearray | BinaryType | BINARY |\n",
    "| list | ArrayType | ARRAY |\n",
    "| dict | MapType | OBJECT |\n",
    "| Dynamically mapped to the native Python type | VariantType | VARIANT |\n",
    "| dict | GeographyType | GEOGRAPHY |\n"
   ]
  },
  {
   "cell_type": "markdown",
   "metadata": {},
   "source": [
    "- [python/latest/stored_procedures](https://docs.snowflake.com/en/developer-guide/snowpark/reference/python/latest/stored_procedures)"
   ]
  },
  {
   "cell_type": "code",
   "execution_count": 11,
   "metadata": {},
   "outputs": [
    {
     "data": {
      "text/plain": [
       "[Row(5+5=10)]"
      ]
     },
     "execution_count": 11,
     "metadata": {},
     "output_type": "execute_result"
    }
   ],
   "source": [
    "x,y = 5,5\n",
    "session.sql(f\"select {x}+{y}\").collect()"
   ]
  },
  {
   "cell_type": "code",
   "execution_count": 9,
   "metadata": {},
   "outputs": [
    {
     "data": {
      "text/plain": [
       "Row(5+5=10)"
      ]
     },
     "execution_count": 9,
     "metadata": {},
     "output_type": "execute_result"
    }
   ],
   "source": [
    "session.sql(f\"select {x}+{y}\").collect()[0]"
   ]
  },
  {
   "cell_type": "code",
   "execution_count": 10,
   "metadata": {},
   "outputs": [
    {
     "data": {
      "text/plain": [
       "10"
      ]
     },
     "execution_count": 10,
     "metadata": {},
     "output_type": "execute_result"
    }
   ],
   "source": [
    "session.sql(f\"select {x}+{y}\").collect()[0][0]"
   ]
  },
  {
   "cell_type": "code",
   "execution_count": 24,
   "metadata": {},
   "outputs": [],
   "source": [
    "# functions.sproc: Registers a Python function as a Snowflake Python stored procedure and returns the stored procedure.\n",
    "import snowflake.snowpark\n",
    "from snowflake.snowpark.functions import sproc, col\n",
    "from snowflake.snowpark.types import StringType, BooleanType, IntegerType\n",
    "#session.add_packages('snowflake-snowpark-python')\n",
    "\n",
    "@sproc(return_type=IntegerType(), input_types=[IntegerType(), IntegerType()], packages=[\"snowflake-snowpark-python\"], replace=True)\n",
    "def add_sp(session, x, y):\n",
    "    return session.sql(f\"select {x}+{y}\").collect()[0][0]\n"
   ]
  },
  {
   "cell_type": "code",
   "execution_count": 25,
   "metadata": {},
   "outputs": [
    {
     "data": {
      "text/plain": [
       "10"
      ]
     },
     "execution_count": 25,
     "metadata": {},
     "output_type": "execute_result"
    }
   ],
   "source": [
    "# Call stored procedure\n",
    "add_sp(5,5)"
   ]
  },
  {
   "cell_type": "code",
   "execution_count": null,
   "metadata": {},
   "outputs": [],
   "source": []
  },
  {
   "cell_type": "code",
   "execution_count": 2,
   "metadata": {},
   "outputs": [],
   "source": [
    "# @sproc decorator allows you to create temporary stored procedure which you can use within the session\n",
    "import snowflake.snowpark\n",
    "from snowflake.snowpark.functions import sproc, col\n",
    "from snowflake.snowpark.types import StringType, BooleanType, IntegerType\n",
    "session.add_packages('snowflake-snowpark-python')\n",
    "\n",
    "@sproc\n",
    "def refresh_query_history(session: snowflake.snowpark.Session) -> str:\n",
    "    tables_df = session.sql(\"show tables in snowpark_db.public\")\n",
    "    tables_df.write.save_as_table(table_name=\"snowpark_db_public_schema_tables\", mode=\"overwrite\")\n",
    "    return \"Success\""
   ]
  },
  {
   "cell_type": "code",
   "execution_count": 3,
   "metadata": {},
   "outputs": [
    {
     "data": {
      "text/plain": [
       "'Success'"
      ]
     },
     "execution_count": 3,
     "metadata": {},
     "output_type": "execute_result"
    }
   ],
   "source": [
    "refresh_query_history()"
   ]
  },
  {
   "cell_type": "code",
   "execution_count": 36,
   "metadata": {},
   "outputs": [
    {
     "name": "stdout",
     "output_type": "stream",
     "text": [
      "----------------------------------------------------------\n",
      "|\"database_name\"  |\"schema_name\"  |\"name\"                |\n",
      "----------------------------------------------------------\n",
      "|SNOWPARK_DB      |PUBLIC         |10tablename           |\n",
      "|SNOWPARK_DB      |PUBLIC         |CAR_SALES             |\n",
      "|SNOWPARK_DB      |PUBLIC         |QUOTED                |\n",
      "|SNOWPARK_DB      |PUBLIC         |SALES_TEST            |\n",
      "|SNOWPARK_DB      |PUBLIC         |SAMPLE_PRODUCT_DATA   |\n",
      "|SNOWPARK_DB      |PUBLIC         |SAMPLE_PRODUCT_DATA1  |\n",
      "|SNOWPARK_DB      |PUBLIC         |STOCK_PRICE_HISTORY   |\n",
      "----------------------------------------------------------\n",
      "\n"
     ]
    }
   ],
   "source": [
    "session.table(\"snowpark_db_public_schema_tables\").select(col('\"database_name\"'), col('\"schema_name\"'), col('\"name\"')).show()"
   ]
  },
  {
   "cell_type": "code",
   "execution_count": null,
   "metadata": {},
   "outputs": [],
   "source": []
  },
  {
   "cell_type": "code",
   "execution_count": 5,
   "metadata": {},
   "outputs": [
    {
     "data": {
      "text/plain": [
       "<snowflake.snowpark.stored_procedure.StoredProcedure at 0x7f7f41100fa0>"
      ]
     },
     "execution_count": 5,
     "metadata": {},
     "output_type": "execute_result"
    }
   ],
   "source": [
    "# Registering Stored Procedure using Session.sproc.register() method. It allows you to create permanent as well as temporary sprocs.\n",
    "# For permanent stored procedures, you would require a stage to be mentioned while calling the method\n",
    "import snowflake.snowpark\n",
    "from snowflake.snowpark.functions import sproc, col\n",
    "from snowflake.snowpark.types import StringType, BooleanType, IntegerType\n",
    "session.add_packages('snowflake-snowpark-python')\n",
    "\n",
    "def refresh_login_history(session: snowflake.snowpark.Session, status:bool) -> str:\n",
    "    if (status):\n",
    "        login_df = session.table('SNOWFLAKE.ACCOUNT_USAGE.LOGIN_HISTORY')\n",
    "        login_df.write.save_as_table(table_name=\"loginhistory\", mode=\"overwrite\")\n",
    "        return 'refresh ran successfully'\n",
    "    return 'table not refreshed'\n",
    "  \n",
    "session.sproc.register(name='refresh_login_hist_sp',\n",
    "                       func=refresh_login_history,\n",
    "                       return_type=StringType(),\n",
    "                       input_types=[BooleanType()],\n",
    "                       replace=True,\n",
    "                       is_permanent=True,\n",
    "                       stage_location='@SF_INT_STG',\n",
    "                       execute_as = 'CALLER'\n",
    ")"
   ]
  },
  {
   "cell_type": "code",
   "execution_count": 6,
   "metadata": {},
   "outputs": [
    {
     "data": {
      "text/plain": [
       "'refresh ran successfully'"
      ]
     },
     "execution_count": 6,
     "metadata": {},
     "output_type": "execute_result"
    }
   ],
   "source": [
    "session.call('refresh_login_hist_sp',True)"
   ]
  },
  {
   "cell_type": "code",
   "execution_count": 8,
   "metadata": {},
   "outputs": [
    {
     "name": "stdout",
     "output_type": "stream",
     "text": [
      "---------------------------------------------------------------\n",
      "|\"USER_NAME\"  |\"EVENT_TYPE\"  |\"IS_SUCCESS\"  |\"ERROR_MESSAGE\"  |\n",
      "---------------------------------------------------------------\n",
      "|PLOGANATHAN  |LOGIN         |YES           |NULL             |\n",
      "|PLOGANATHAN  |LOGIN         |YES           |NULL             |\n",
      "|PLOGANATHAN  |LOGIN         |YES           |NULL             |\n",
      "|PLOGANATHAN  |LOGIN         |YES           |NULL             |\n",
      "|PLOGANATHAN  |LOGIN         |YES           |NULL             |\n",
      "|PLOGANATHAN  |LOGIN         |YES           |NULL             |\n",
      "|PLOGANATHAN  |LOGIN         |YES           |NULL             |\n",
      "|PLOGANATHAN  |LOGIN         |YES           |NULL             |\n",
      "|PLOGANATHAN  |LOGIN         |YES           |NULL             |\n",
      "|PLOGANATHAN  |LOGIN         |YES           |NULL             |\n",
      "---------------------------------------------------------------\n",
      "\n"
     ]
    }
   ],
   "source": [
    "session.table(\"loginhistory\").select(col(\"USER_NAME\"), col(\"EVENT_TYPE\"), col(\"IS_SUCCESS\"), col(\"ERROR_MESSAGE\")).show()"
   ]
  },
  {
   "cell_type": "markdown",
   "metadata": {},
   "source": [
    "- [sproc.register_from_file](https://docs.snowflake.com/en/developer-guide/snowpark/reference/python/latest/api/snowflake.snowpark.udf.UDFRegistration.register_from_file) : Registers a Python function as a Snowflake Python UDF from a Python or zip file, and returns the UDF."
   ]
  },
  {
   "cell_type": "code",
   "execution_count": 18,
   "metadata": {},
   "outputs": [
    {
     "data": {
      "text/plain": [
       "<snowflake.snowpark.stored_procedure.StoredProcedure at 0x7f7f4207f640>"
      ]
     },
     "execution_count": 18,
     "metadata": {},
     "output_type": "execute_result"
    }
   ],
   "source": [
    "# Registering Stored Procedure using Session.sproc.register_from_file() method. It allows you to register a python function from an external file or from a stage file\n",
    "# Source script path: assets/scripts/refresh_login_history.py\n",
    "session.sproc.register_from_file(file_path=\"scripts/refresh_login_history.py\"\n",
    "                                ,func_name=\"refresh_login_history\"\n",
    "                                ,return_type=StringType()\n",
    "                                ,input_types=[BooleanType()]\n",
    "                                ,name=\"loginhistory_sp\"\n",
    "                                ,is_permanent=True\n",
    "                                ,stage_location='@SF_INT_STG'\n",
    "                                ,replace=True\n",
    ")"
   ]
  },
  {
   "cell_type": "code",
   "execution_count": 19,
   "metadata": {},
   "outputs": [
    {
     "data": {
      "text/plain": [
       "'refresh ran successfully'"
      ]
     },
     "execution_count": 19,
     "metadata": {},
     "output_type": "execute_result"
    }
   ],
   "source": [
    "session.call('loginhistory_sp',True)"
   ]
  },
  {
   "cell_type": "code",
   "execution_count": 20,
   "metadata": {},
   "outputs": [
    {
     "name": "stdout",
     "output_type": "stream",
     "text": [
      "---------------------------------------------------------------\n",
      "|\"USER_NAME\"  |\"EVENT_TYPE\"  |\"IS_SUCCESS\"  |\"ERROR_MESSAGE\"  |\n",
      "---------------------------------------------------------------\n",
      "|PLOGANATHAN  |LOGIN         |YES           |NULL             |\n",
      "|PLOGANATHAN  |LOGIN         |YES           |NULL             |\n",
      "|PLOGANATHAN  |LOGIN         |YES           |NULL             |\n",
      "|PLOGANATHAN  |LOGIN         |YES           |NULL             |\n",
      "|PLOGANATHAN  |LOGIN         |YES           |NULL             |\n",
      "|PLOGANATHAN  |LOGIN         |YES           |NULL             |\n",
      "|PLOGANATHAN  |LOGIN         |YES           |NULL             |\n",
      "|PLOGANATHAN  |LOGIN         |YES           |NULL             |\n",
      "|PLOGANATHAN  |LOGIN         |YES           |NULL             |\n",
      "|PLOGANATHAN  |LOGIN         |YES           |NULL             |\n",
      "---------------------------------------------------------------\n",
      "\n"
     ]
    }
   ],
   "source": [
    "session.table(\"loginhistory\").select(col(\"USER_NAME\"), col(\"EVENT_TYPE\"), col(\"IS_SUCCESS\"), col(\"ERROR_MESSAGE\")).show()"
   ]
  },
  {
   "cell_type": "markdown",
   "metadata": {},
   "source": [
    "#### `Snowflake Snowpark User Defined Functions`\n",
    "\n",
    "snowflake.snowpark.udf.UDFRegistration provides methods to register lambdas and functions as UDFs in the Snowflake database.\n",
    "\n",
    "[session.udf](https://docs.snowflake.com/developer-guide/snowpark/reference/python/api/snowflake.snowpark.Session.udf.html#snowflake.snowpark.Session.udf) returns an object of this class. You can use this object to register UDFs that you plan to use in the current session or permanently. The methods that register a UDF return a UserDefinedFunction object, which you can also use in Column expressions.\n",
    "\n",
    "Before creating a UDF, think about whether you want to create a vectorized UDF (also referred to as Python UDF Batch API) or a regular UDF. The advantages of a vectorized UDF are:\n",
    "- The potential for better performance if your Python code operates efficiently on batches of rows.\n",
    "- Less transformation logic is required if you are calling into libraries that operate on Pandas DataFrames or Pandas arrays.\n",
    "\n",
    "#### Ways to Register User Defined Stored Procedure\n",
    "\n",
    "- Use [udf()](https://docs.snowflake.com/developer-guide/snowpark/reference/python/latest/api/snowflake.snowpark.functions.udf#snowflake.snowpark.functions.udf) or [register()](https://docs.snowflake.com/developer-guide/snowpark/reference/python/latest/api/snowflake.snowpark.udf.UDFRegistration.register#snowflake.snowpark.udf.UDFRegistration.register).\n",
    "- Use [register_from_file()](https://docs.snowflake.com/developer-guide/snowpark/reference/python/latest/api/snowflake.snowpark.udf.UDFRegistration.register_from_file#snowflake.snowpark.udf.UDFRegistration.register_from_file).\n",
    "\n",
    "Additional Reference Codes for registering UDFs using Snowflake snowpark API - [here](https://docs.snowflake.com/developer-guide/snowpark/reference/python/latest/api/snowflake.snowpark.udf.UDFRegistration)"
   ]
  },
  {
   "cell_type": "markdown",
   "metadata": {},
   "source": [
    "- [UDF](https://docs.snowflake.com/en/developer-guide/snowpark/reference/python/latest/udf): User-defined functions (UDFs) in Snowpark."
   ]
  },
  {
   "cell_type": "code",
   "execution_count": 21,
   "metadata": {},
   "outputs": [
    {
     "name": "stdout",
     "output_type": "stream",
     "text": [
      "--------\n",
      "|\"ID\"  |\n",
      "--------\n",
      "|1     |\n",
      "|3     |\n",
      "|5     |\n",
      "|7     |\n",
      "--------\n",
      "\n"
     ]
    }
   ],
   "source": [
    "session.range(1,8,2).show()"
   ]
  },
  {
   "cell_type": "code",
   "execution_count": 22,
   "metadata": {},
   "outputs": [],
   "source": [
    "# Create a temporary UDF from a lambda and apply it to a dataframe:\n",
    "add_one_udf = udf(lambda x:x+1, return_type=IntegerType(), input_types=[IntegerType()])"
   ]
  },
  {
   "cell_type": "code",
   "execution_count": 24,
   "metadata": {},
   "outputs": [
    {
     "name": "stdout",
     "output_type": "stream",
     "text": [
      "----------------\n",
      "|\"ID\"  |\"ID_\"  |\n",
      "----------------\n",
      "|3     |4      |\n",
      "|7     |8      |\n",
      "|1     |2      |\n",
      "|5     |6      |\n",
      "----------------\n",
      "\n"
     ]
    }
   ],
   "source": [
    "session.range(1,8,2).select(col(\"ID\"), add_one_udf(col(\"ID\")).alias(\"ID_\")).show()"
   ]
  },
  {
   "cell_type": "code",
   "execution_count": 27,
   "metadata": {},
   "outputs": [
    {
     "name": "stdout",
     "output_type": "stream",
     "text": [
      "-------------\n",
      "|\"A\"  |\"B\"  |\n",
      "-------------\n",
      "|1    |2    |\n",
      "|3    |4    |\n",
      "-------------\n",
      "\n",
      "-------------------\n",
      "|\"A\"  |\"B\"  |\"C\"  |\n",
      "-------------------\n",
      "|1    |2    |3    |\n",
      "|3    |4    |7    |\n",
      "-------------------\n",
      "\n"
     ]
    }
   ],
   "source": [
    "# Create a UDF with type hints and @udf decorator and apply it to a dataframe:\n",
    "@udf\n",
    "def add_udf(x:int, y:int) -> int:\n",
    "    return x + y\n",
    "\n",
    "df = session.create_dataframe([[1,2],[3,4]], schema=[\"a\",\"b\"])\n",
    "df.show()\n",
    "\n",
    "#df.select(col(\"a\"), col(\"b\"), add_udf(col(\"a\"),col(\"b\")).alias(\"c\")).show()\n",
    "df.select(col(\"a\"), col(\"b\"), add_udf(\"a\",\"b\").alias(\"c\")).show()\n"
   ]
  },
  {
   "cell_type": "code",
   "execution_count": 29,
   "metadata": {},
   "outputs": [],
   "source": [
    "# Create a permanent UDF with a name and call it in SQL:\n",
    "_ = session.udf.register(lambda x,y:x*y\n",
    "                     ,return_type=IntegerType()\n",
    "                     ,input_types=[IntegerType(), IntegerType()]\n",
    "                     ,is_permanent=True\n",
    "                     ,name=\"mul\"\n",
    "                     ,replace=True # overwrite udf definition when it already exists\n",
    "                     ,stage_location=\"@SF_UDF_INT_STG\"\n",
    "                     )"
   ]
  },
  {
   "cell_type": "code",
   "execution_count": 32,
   "metadata": {},
   "outputs": [
    {
     "name": "stdout",
     "output_type": "stream",
     "text": [
      "---------\n",
      "|\"RES\"  |\n",
      "---------\n",
      "|25     |\n",
      "---------\n",
      "\n"
     ]
    }
   ],
   "source": [
    "session.sql(\"select mul(5,5) as res\").show()"
   ]
  },
  {
   "cell_type": "code",
   "execution_count": 34,
   "metadata": {},
   "outputs": [],
   "source": [
    "# skip udf creation if it already exists\n",
    "_ = session.udf.register(lambda x,y:x*y\n",
    "                     ,return_type=IntegerType()\n",
    "                     ,input_types=[IntegerType(), IntegerType()]\n",
    "                     ,is_permanent=True\n",
    "                     ,name=\"mul\"\n",
    "                     #,replace=True # Should be comment out\n",
    "                     ,stage_location=\"@SF_UDF_INT_STG\"\n",
    "                     ,if_not_exists=True # skip udf creation if it already exists\n",
    "                     )"
   ]
  },
  {
   "cell_type": "markdown",
   "metadata": {},
   "source": [
    "`Create a UDF with UDF-level imports and apply it to a dataframe:`"
   ]
  },
  {
   "cell_type": "code",
   "execution_count": 38,
   "metadata": {},
   "outputs": [],
   "source": [
    "# from <directoryname>.<filename> import <functionname>\n",
    "from scripts.sf_credit import credit_to_dollar\n",
    "\n",
    "@udf(imports=[('scripts/sf_credit.py','scripts/sf_credit')])\n",
    "def wh_credit_calc(wh_size:str, credit:int) -> float:\n",
    "    if wh_size == 'XS':\n",
    "        return credit_to_dollar(credit)*1\n",
    "    elif  wh_size == 'S':\n",
    "        return credit_to_dollar(credit)*2\n",
    "    elif  wh_size == 'M':\n",
    "        return credit_to_dollar(credit)*4\n",
    "    elif  wh_size == 'L':\n",
    "        return credit_to_dollar(credit)*8\n",
    "    elif  wh_size == 'XL':\n",
    "        return credit_to_dollar(credit)*16\n",
    "    elif  wh_size == 'XXL':\n",
    "        return credit_to_dollar(credit)*32\n",
    "    else:\n",
    "        return credit_to_dollar(credit)\n"
   ]
  },
  {
   "cell_type": "code",
   "execution_count": 40,
   "metadata": {},
   "outputs": [
    {
     "name": "stdout",
     "output_type": "stream",
     "text": [
      "-----------------------------------------------\n",
      "|\"WAREHOUSE\"  |\"CREDIT\"  |\"RES\"               |\n",
      "-----------------------------------------------\n",
      "|L            |66        |1108.8              |\n",
      "|M            |11        |92.4                |\n",
      "|XS           |23        |48.300000000000004  |\n",
      "-----------------------------------------------\n",
      "\n"
     ]
    }
   ],
   "source": [
    "schema = StructType([StructField('warehouse',StringType()),StructField('credit',IntegerType())])\n",
    "dataset = [['XS',23],['L',66],['M',11]]\n",
    "df = session.createDataFrame(dataset,schema= schema)\n",
    "\n",
    "df.select(col(\"warehouse\"), col(\"credit\"), wh_credit_calc(col(\"warehouse\"), col(\"credit\")).alias(\"res\")).show()"
   ]
  },
  {
   "cell_type": "code",
   "execution_count": 41,
   "metadata": {},
   "outputs": [],
   "source": [
    "# from <directoryname>.<filename> import <functionname>\n",
    "from scripts.mod5 import mod5\n",
    "\n",
    "@udf(imports=[('scripts/mod5.py','scripts/mod5')])\n",
    "def mod5_and_plus1_udf(x: int) -> int:\n",
    "    return mod5(x) + 1"
   ]
  },
  {
   "cell_type": "code",
   "execution_count": 42,
   "metadata": {},
   "outputs": [
    {
     "data": {
      "text/plain": [
       "[Row(COL1=2), Row(COL1=4), Row(COL1=1), Row(COL1=3)]"
      ]
     },
     "execution_count": 42,
     "metadata": {},
     "output_type": "execute_result"
    }
   ],
   "source": [
    "session.range(1, 8, 2).select(mod5_and_plus1_udf(\"id\")).to_df(\"col1\").collect()"
   ]
  },
  {
   "cell_type": "markdown",
   "metadata": {},
   "source": [
    "`Create a UDF with UDF-level packages and apply it to a dataframe:`"
   ]
  },
  {
   "cell_type": "code",
   "execution_count": 43,
   "metadata": {},
   "outputs": [],
   "source": [
    "import numpy as np \n",
    "import math \n",
    "\n",
    "@udf(packages=[\"numpy\"])\n",
    "def sin_udf(x: float) -> float:\n",
    "    return np.sin(x)"
   ]
  },
  {
   "cell_type": "code",
   "execution_count": 45,
   "metadata": {},
   "outputs": [
    {
     "name": "stdout",
     "output_type": "stream",
     "text": [
      "----------------------\n",
      "|\"D\"                 |\n",
      "----------------------\n",
      "|0.0                 |\n",
      "|1.5707963267948966  |\n",
      "----------------------\n",
      "\n",
      "----------\n",
      "|\"COL1\"  |\n",
      "----------\n",
      "|1.0     |\n",
      "|0.0     |\n",
      "----------\n",
      "\n"
     ]
    }
   ],
   "source": [
    "df = session.create_dataframe([0.0, 0.5*math.pi], schema=[\"d\"])\n",
    "df.show()\n",
    "\n",
    "df.select(sin_udf(\"d\")).to_df(\"col1\").show()"
   ]
  },
  {
   "cell_type": "markdown",
   "metadata": {},
   "source": [
    "`Creating a UDF from a local Python file:`"
   ]
  },
  {
   "cell_type": "code",
   "execution_count": 46,
   "metadata": {},
   "outputs": [],
   "source": [
    "mod5_udf = session.udf.register_from_file(\n",
    "     file_path=\"scripts/mod5.py\"\n",
    "    ,func_name=\"mod5\"\n",
    ")"
   ]
  },
  {
   "cell_type": "code",
   "execution_count": 48,
   "metadata": {},
   "outputs": [
    {
     "name": "stdout",
     "output_type": "stream",
     "text": [
      "-------------------------------------------------------------\n",
      "|\"ID\"  |\"\"\"SNOWPARK_DB\"\".\"\"PUBLIC\"\".SNOWPARK_TEMP_FUNCT...  |\n",
      "-------------------------------------------------------------\n",
      "|5     |0                                                   |\n",
      "|1     |1                                                   |\n",
      "|7     |2                                                   |\n",
      "|3     |3                                                   |\n",
      "-------------------------------------------------------------\n",
      "\n"
     ]
    }
   ],
   "source": [
    "session.range(1, 8, 2).select(col(\"id\"), mod5_udf(\"id\")).show()"
   ]
  },
  {
   "cell_type": "markdown",
   "metadata": {},
   "source": [
    "`Creating a UDF from a Python file on an internal stage:`"
   ]
  },
  {
   "cell_type": "code",
   "execution_count": 53,
   "metadata": {},
   "outputs": [
    {
     "data": {
      "text/plain": [
       "[PutResult(source='mod5.py', target='mod5.py', source_size=41, target_size=48, source_compression='NONE', target_compression='NONE', status='UPLOADED', message='')]"
      ]
     },
     "execution_count": 53,
     "metadata": {},
     "output_type": "execute_result"
    }
   ],
   "source": [
    "session.file.put(\"scripts/mod5.py\", \"@sf_int_stg\", auto_compress=False, overwrite=True)"
   ]
  },
  {
   "cell_type": "code",
   "execution_count": 66,
   "metadata": {},
   "outputs": [
    {
     "name": "stdout",
     "output_type": "stream",
     "text": [
      "-----------------------------------------------------------------------------------------------------\n",
      "|\"name\"                 |\"size\"  |\"md5\"                             |\"last_modified\"                |\n",
      "-----------------------------------------------------------------------------------------------------\n",
      "|sf_int_stg/mod5.py     |48      |ba4ad1a67d9fc52ad3096b96398ffd79  |Sat, 16 Dec 2023 17:52:20 GMT  |\n",
      "|sf_int_stg/mod5.py.gz  |80      |913032dfd39b788b6b66aefc065bd11c  |Sat, 16 Dec 2023 17:52:03 GMT  |\n",
      "-----------------------------------------------------------------------------------------------------\n",
      "\n"
     ]
    }
   ],
   "source": [
    "df = session.sql(\"list @sf_int_stg\")\n",
    "df.filter(col('\"name\"').like('%mod5%')).show()"
   ]
  },
  {
   "cell_type": "code",
   "execution_count": 68,
   "metadata": {},
   "outputs": [],
   "source": [
    "#Creating a UDF from a Python file on an internal stage:\n",
    "mod5_udf = session.udf.register_from_file(\n",
    "     file_path=\"@sf_int_stg/mod5.py\"\n",
    "    ,func_name=\"mod5\"\n",
    "    ,return_type=IntegerType()\n",
    "    ,input_types=[IntegerType()]\n",
    "    ,replace=True\n",
    ")"
   ]
  },
  {
   "cell_type": "code",
   "execution_count": 69,
   "metadata": {},
   "outputs": [
    {
     "name": "stdout",
     "output_type": "stream",
     "text": [
      "----------------\n",
      "|\"ID\"  |\"RES\"  |\n",
      "----------------\n",
      "|1     |1      |\n",
      "|3     |3      |\n",
      "|5     |0      |\n",
      "|7     |2      |\n",
      "----------------\n",
      "\n"
     ]
    }
   ],
   "source": [
    "session.range(1,8,2).select(col(\"ID\"), mod5_udf(col(\"id\")).alias(\"res\")).show()"
   ]
  },
  {
   "cell_type": "markdown",
   "metadata": {},
   "source": [
    "`Use cache to read a file once from a stage in a UDF:`"
   ]
  },
  {
   "cell_type": "code",
   "execution_count": 20,
   "metadata": {},
   "outputs": [
    {
     "name": "stdout",
     "output_type": "stream",
     "text": [
      "Documents\n",
      "/Users/valar/Documents\n",
      "None\n"
     ]
    }
   ],
   "source": [
    "path = '/Users/valar/Documents'\n",
    "basename = os.path.basename(path)\n",
    "print(basename)\n",
    "\n",
    "path = '/Users/valar/'\n",
    "print(os.path.join(path,'Documents'))\n",
    "\n",
    "import_dir = sys._xoptions.get(\"snowflake_import_directory\")\n",
    "print(import_dir)\n"
   ]
  },
  {
   "cell_type": "code",
   "execution_count": 6,
   "metadata": {},
   "outputs": [
    {
     "data": {
      "text/plain": [
       "[Row(COL1='snowpark-snowflake'), Row(COL1='snowpark-python')]"
      ]
     },
     "execution_count": 6,
     "metadata": {},
     "output_type": "execute_result"
    }
   ],
   "source": [
    "import sys\n",
    "import os\n",
    "import cachetools\n",
    "from snowflake.snowpark.types import StringType\n",
    "@cachetools.cached(cache={})\n",
    "def read_file(filename):\n",
    "    import_dir = sys._xoptions.get(\"snowflake_import_directory\")\n",
    "    if import_dir:\n",
    "        with open(os.path.join(import_dir, filename), \"r\") as f:\n",
    "            return f.read()\n",
    "\n",
    "# create a temporary text file for test\n",
    "temp_file_name = \"/tmp/temp.txt\"\n",
    "with open(temp_file_name, \"w\") as t:\n",
    "     _ = t.write(\"snowpark\")\n",
    "\n",
    "session.add_import(temp_file_name)\n",
    "session.add_packages(\"cachetools\")\n",
    "concat_file_content_with_str_udf = session.udf.register(\n",
    "     lambda s: f\"{read_file(os.path.basename(temp_file_name))}-{s}\",\n",
    "     return_type=StringType(),\n",
    "     input_types=[StringType()]\n",
    "    )"
   ]
  },
  {
   "cell_type": "code",
   "execution_count": 7,
   "metadata": {},
   "outputs": [
    {
     "data": {
      "text/plain": [
       "[Row(COL1='snowpark-snowflake'), Row(COL1='snowpark-python')]"
      ]
     },
     "execution_count": 7,
     "metadata": {},
     "output_type": "execute_result"
    }
   ],
   "source": [
    "df = session.create_dataframe([\"snowflake\", \"python\"], schema=[\"a\"])\n",
    "df.select(concat_file_content_with_str_udf(\"a\")).to_df(\"col1\").collect()"
   ]
  },
  {
   "cell_type": "code",
   "execution_count": 27,
   "metadata": {},
   "outputs": [],
   "source": [
    "os.remove(temp_file_name)\n",
    "session.clear_imports()"
   ]
  },
  {
   "cell_type": "markdown",
   "metadata": {},
   "source": [
    "#### `Create a vectorized UDF from a lambda with a max batch size and apply it to a dataframe:`"
   ]
  },
  {
   "cell_type": "code",
   "execution_count": 3,
   "metadata": {},
   "outputs": [],
   "source": [
    "from snowflake.snowpark.functions import udf\n",
    "from snowflake.snowpark.types import IntegerType, PandasSeriesType, PandasDataFrameType\n",
    "\n",
    "add_udf1 = udf(lambda series1, series2: series1 + series2\n",
    "               ,return_type=PandasSeriesType(IntegerType())\n",
    "               ,input_types=[PandasSeriesType(IntegerType()), PandasSeriesType(IntegerType())]\n",
    "               ,max_batch_size=20\n",
    "               )"
   ]
  },
  {
   "cell_type": "code",
   "execution_count": 4,
   "metadata": {},
   "outputs": [
    {
     "name": "stdout",
     "output_type": "stream",
     "text": [
      "----------------\n",
      "|\"ADD_RESULT\"  |\n",
      "----------------\n",
      "|7             |\n",
      "|3             |\n",
      "----------------\n",
      "\n"
     ]
    }
   ],
   "source": [
    "df = session.create_dataframe([[1,2],[3,4]], schema=[\"a\",\"b\"])\n",
    "df.select(add_udf1(\"a\",\"b\").alias(\"add_result\")).show()"
   ]
  },
  {
   "cell_type": "code",
   "execution_count": 5,
   "metadata": {},
   "outputs": [],
   "source": [
    "from snowflake.snowpark.functions import udf\n",
    "from snowflake.snowpark.types import IntegerType, PandasSeriesType, PandasDataFrameType\n",
    "\n",
    "add_udf2 = udf(lambda df: df[0] + df[1]\n",
    "               ,return_type=PandasSeriesType(IntegerType())\n",
    "               ,input_types=[PandasDataFrameType([IntegerType(), IntegerType()])]\n",
    "               ,max_batch_size=20\n",
    "               )"
   ]
  },
  {
   "cell_type": "code",
   "execution_count": 6,
   "metadata": {},
   "outputs": [
    {
     "data": {
      "text/plain": [
       "[Row(ADD_RESULT=3), Row(ADD_RESULT=7)]"
      ]
     },
     "execution_count": 6,
     "metadata": {},
     "output_type": "execute_result"
    }
   ],
   "source": [
    "df = session.create_dataframe([[1,2],[3,4]], schema=[\"a\",\"b\"])\n",
    "df.select(add_udf2(\"a\", \"b\")).to_df(\"add_result\").collect()"
   ]
  },
  {
   "cell_type": "markdown",
   "metadata": {},
   "source": [
    "#### Create a vectorized UDF with type hints and apply it to a dataframe:"
   ]
  },
  {
   "cell_type": "code",
   "execution_count": 8,
   "metadata": {},
   "outputs": [],
   "source": [
    "from snowflake.snowpark.functions import udf\n",
    "from snowflake.snowpark.types import IntegerType, PandasSeries, PandasDataFrameType\n",
    "\n",
    "@udf\n",
    "def apply_mod5_udf(series: PandasSeries[int]) -> PandasSeries[int]:\n",
    "    return series.apply(lambda x: x % 5)"
   ]
  },
  {
   "cell_type": "code",
   "execution_count": 10,
   "metadata": {},
   "outputs": [
    {
     "name": "stdout",
     "output_type": "stream",
     "text": [
      "---------\n",
      "|\"COL\"  |\n",
      "---------\n",
      "|3      |\n",
      "|1      |\n",
      "|2      |\n",
      "|0      |\n",
      "---------\n",
      "\n"
     ]
    }
   ],
   "source": [
    "session.range(1,8,2).select(apply_mod5_udf(\"id\")).to_df(\"col\").show()"
   ]
  },
  {
   "cell_type": "code",
   "execution_count": 11,
   "metadata": {},
   "outputs": [],
   "source": [
    "from snowflake.snowpark.functions import udf\n",
    "from snowflake.snowpark.types import IntegerType, PandasSeries, PandasDataFrame\n",
    "\n",
    "@udf\n",
    "def mul_udf(df: PandasDataFrame[int, int]) -> PandasSeries[int]:\n",
    "    return df[0] * df[1]"
   ]
  },
  {
   "cell_type": "code",
   "execution_count": 12,
   "metadata": {},
   "outputs": [
    {
     "name": "stdout",
     "output_type": "stream",
     "text": [
      "----------\n",
      "|\"COL1\"  |\n",
      "----------\n",
      "|12      |\n",
      "|2       |\n",
      "----------\n",
      "\n"
     ]
    }
   ],
   "source": [
    "df = session.create_dataframe([[1,2],[3,4]]).to_df(\"a\",\"b\")\n",
    "df.select(mul_udf(\"a\",\"b\")).to_df(\"col1\").show()"
   ]
  },
  {
   "cell_type": "markdown",
   "metadata": {},
   "source": [
    "#### `Create a vectorized UDF with original pandas types and Snowpark types and apply it to a dataframe:`"
   ]
  },
  {
   "cell_type": "code",
   "execution_count": 4,
   "metadata": {},
   "outputs": [
    {
     "ename": "SnowparkSessionException",
     "evalue": "(1409): More than one active session is detected. When you call function 'udf' or use decorator '@udf', you must specify the 'session' parameter if you created multiple sessions.Alternatively, you can use 'session.udf.register' to register UDFs",
     "output_type": "error",
     "traceback": [
      "\u001b[0;31m---------------------------------------------------------------------------\u001b[0m",
      "\u001b[0;31mSnowparkSessionException\u001b[0m                  Traceback (most recent call last)",
      "Cell \u001b[0;32mIn[4], line 8\u001b[0m\n\u001b[1;32m      5\u001b[0m \u001b[38;5;28;01mdef\u001b[39;00m \u001b[38;5;21madd1\u001b[39m(series1: pd\u001b[38;5;241m.\u001b[39mSeries, series2: pd\u001b[38;5;241m.\u001b[39mSeries) \u001b[38;5;241m-\u001b[39m\u001b[38;5;241m>\u001b[39m pd\u001b[38;5;241m.\u001b[39mSeries:\n\u001b[1;32m      6\u001b[0m     \u001b[38;5;28;01mreturn\u001b[39;00m series1 \u001b[38;5;241m+\u001b[39m series2\n\u001b[0;32m----> 8\u001b[0m add_udf1 \u001b[38;5;241m=\u001b[39m \u001b[43mpandas_udf\u001b[49m\u001b[43m(\u001b[49m\u001b[43madd1\u001b[49m\n\u001b[1;32m      9\u001b[0m \u001b[43m                    \u001b[49m\u001b[43m,\u001b[49m\u001b[43mreturn_type\u001b[49m\u001b[38;5;241;43m=\u001b[39;49m\u001b[43mIntegerType\u001b[49m\u001b[43m(\u001b[49m\u001b[43m)\u001b[49m\n\u001b[1;32m     10\u001b[0m \u001b[43m                    \u001b[49m\u001b[43m,\u001b[49m\u001b[43minput_types\u001b[49m\u001b[38;5;241;43m=\u001b[39;49m\u001b[43m[\u001b[49m\u001b[43mIntegerType\u001b[49m\u001b[43m(\u001b[49m\u001b[43m)\u001b[49m\u001b[43m,\u001b[49m\u001b[43m \u001b[49m\u001b[43mIntegerType\u001b[49m\u001b[43m(\u001b[49m\u001b[43m)\u001b[49m\u001b[43m]\u001b[49m\n\u001b[1;32m     11\u001b[0m \u001b[43m)\u001b[49m\n",
      "File \u001b[0;32m~/anaconda3/envs/snowpark10/lib/python3.10/site-packages/snowflake/snowpark/functions.py:7259\u001b[0m, in \u001b[0;36mpandas_udf\u001b[0;34m(func, return_type, input_types, name, is_permanent, stage_location, imports, packages, replace, if_not_exists, session, parallel, max_batch_size, statement_params, strict, secure, source_code_display, external_access_integrations, secrets, immutable)\u001b[0m\n\u001b[1;32m   7186\u001b[0m \u001b[38;5;28;01mdef\u001b[39;00m \u001b[38;5;21mpandas_udf\u001b[39m(\n\u001b[1;32m   7187\u001b[0m     func: Optional[Callable] \u001b[38;5;241m=\u001b[39m \u001b[38;5;28;01mNone\u001b[39;00m,\n\u001b[1;32m   7188\u001b[0m     \u001b[38;5;241m*\u001b[39m,\n\u001b[0;32m   (...)\u001b[0m\n\u001b[1;32m   7207\u001b[0m     immutable: \u001b[38;5;28mbool\u001b[39m \u001b[38;5;241m=\u001b[39m \u001b[38;5;28;01mFalse\u001b[39;00m,\n\u001b[1;32m   7208\u001b[0m ) \u001b[38;5;241m-\u001b[39m\u001b[38;5;241m>\u001b[39m Union[UserDefinedFunction, functools\u001b[38;5;241m.\u001b[39mpartial]:\n\u001b[1;32m   7209\u001b[0m \u001b[38;5;250m    \u001b[39m\u001b[38;5;124;03m\"\"\"\u001b[39;00m\n\u001b[1;32m   7210\u001b[0m \u001b[38;5;124;03m    Registers a Python function as a vectorized UDF and returns the UDF.\u001b[39;00m\n\u001b[1;32m   7211\u001b[0m \u001b[38;5;124;03m    The arguments, return value and usage of this function are exactly the same as\u001b[39;00m\n\u001b[0;32m   (...)\u001b[0m\n\u001b[1;32m   7257\u001b[0m \u001b[38;5;124;03m        <BLANKLINE>\u001b[39;00m\n\u001b[1;32m   7258\u001b[0m \u001b[38;5;124;03m    \"\"\"\u001b[39;00m\n\u001b[0;32m-> 7259\u001b[0m     session \u001b[38;5;241m=\u001b[39m session \u001b[38;5;129;01mor\u001b[39;00m \u001b[43msnowflake\u001b[49m\u001b[38;5;241;43m.\u001b[39;49m\u001b[43msnowpark\u001b[49m\u001b[38;5;241;43m.\u001b[39;49m\u001b[43msession\u001b[49m\u001b[38;5;241;43m.\u001b[39;49m\u001b[43m_get_active_session\u001b[49m\u001b[43m(\u001b[49m\u001b[43m)\u001b[49m\n\u001b[1;32m   7260\u001b[0m     \u001b[38;5;28;01mif\u001b[39;00m func \u001b[38;5;129;01mis\u001b[39;00m \u001b[38;5;28;01mNone\u001b[39;00m:\n\u001b[1;32m   7261\u001b[0m         \u001b[38;5;28;01mreturn\u001b[39;00m functools\u001b[38;5;241m.\u001b[39mpartial(\n\u001b[1;32m   7262\u001b[0m             session\u001b[38;5;241m.\u001b[39mudf\u001b[38;5;241m.\u001b[39mregister,\n\u001b[1;32m   7263\u001b[0m             return_type\u001b[38;5;241m=\u001b[39mreturn_type,\n\u001b[0;32m   (...)\u001b[0m\n\u001b[1;32m   7281\u001b[0m             immutable\u001b[38;5;241m=\u001b[39mimmutable,\n\u001b[1;32m   7282\u001b[0m         )\n",
      "File \u001b[0;32m~/anaconda3/envs/snowpark10/lib/python3.10/site-packages/snowflake/snowpark/session.py:178\u001b[0m, in \u001b[0;36m_get_active_session\u001b[0;34m()\u001b[0m\n\u001b[1;32m    176\u001b[0m     \u001b[38;5;28;01mreturn\u001b[39;00m \u001b[38;5;28mnext\u001b[39m(\u001b[38;5;28miter\u001b[39m(_active_sessions))\n\u001b[1;32m    177\u001b[0m \u001b[38;5;28;01melif\u001b[39;00m \u001b[38;5;28mlen\u001b[39m(_active_sessions) \u001b[38;5;241m>\u001b[39m \u001b[38;5;241m1\u001b[39m:\n\u001b[0;32m--> 178\u001b[0m     \u001b[38;5;28;01mraise\u001b[39;00m SnowparkClientExceptionMessages\u001b[38;5;241m.\u001b[39mMORE_THAN_ONE_ACTIVE_SESSIONS()\n\u001b[1;32m    179\u001b[0m \u001b[38;5;28;01melse\u001b[39;00m:\n\u001b[1;32m    180\u001b[0m     \u001b[38;5;28;01mraise\u001b[39;00m SnowparkClientExceptionMessages\u001b[38;5;241m.\u001b[39mSERVER_NO_DEFAULT_SESSION()\n",
      "\u001b[0;31mSnowparkSessionException\u001b[0m: (1409): More than one active session is detected. When you call function 'udf' or use decorator '@udf', you must specify the 'session' parameter if you created multiple sessions.Alternatively, you can use 'session.udf.register' to register UDFs"
     ]
    }
   ],
   "source": [
    "from snowflake.snowpark.functions import pandas_udf\n",
    "from snowflake.snowpark.types import IntegerType\n",
    "import pandas as pd\n",
    "\n",
    "def add1(series1: pd.Series, series2: pd.Series) -> pd.Series:\n",
    "    return series1 + series2\n",
    "\n",
    "add_udf1 = pandas_udf(add1\n",
    "                    ,return_type=IntegerType()\n",
    "                    ,input_types=[IntegerType(), IntegerType()]\n",
    ")"
   ]
  },
  {
   "cell_type": "code",
   "execution_count": 16,
   "metadata": {},
   "outputs": [
    {
     "name": "stdout",
     "output_type": "stream",
     "text": [
      "----------------\n",
      "|\"ADD_RESULT\"  |\n",
      "----------------\n",
      "|3             |\n",
      "|7             |\n",
      "----------------\n",
      "\n"
     ]
    }
   ],
   "source": [
    "df = session.create_dataframe([[1, 2], [3, 4]]).to_df(\"a\", \"b\")\n",
    "df.select(add_udf1(\"a\", \"b\")).to_df(\"add_result\").show()"
   ]
  },
  {
   "cell_type": "code",
   "execution_count": 3,
   "metadata": {},
   "outputs": [
    {
     "ename": "NameError",
     "evalue": "name 'pandas_udf' is not defined",
     "output_type": "error",
     "traceback": [
      "\u001b[0;31m---------------------------------------------------------------------------\u001b[0m",
      "\u001b[0;31mNameError\u001b[0m                                 Traceback (most recent call last)",
      "Cell \u001b[0;32mIn[3], line 4\u001b[0m\n\u001b[1;32m      1\u001b[0m \u001b[38;5;28;01mdef\u001b[39;00m \u001b[38;5;21madd2\u001b[39m(df: pd\u001b[38;5;241m.\u001b[39mDataFrame) \u001b[38;5;241m-\u001b[39m\u001b[38;5;241m>\u001b[39m pd\u001b[38;5;241m.\u001b[39mSeries:\n\u001b[1;32m      2\u001b[0m     \u001b[38;5;28;01mreturn\u001b[39;00m df[\u001b[38;5;241m0\u001b[39m] \u001b[38;5;241m+\u001b[39m df[\u001b[38;5;241m1\u001b[39m]\n\u001b[0;32m----> 4\u001b[0m add_udf2 \u001b[38;5;241m=\u001b[39m \u001b[43mpandas_udf\u001b[49m(add2\n\u001b[1;32m      5\u001b[0m                      ,return_type\u001b[38;5;241m=\u001b[39mIntegerType()\n\u001b[1;32m      6\u001b[0m                      ,input_types\u001b[38;5;241m=\u001b[39m[IntegerType(), IntegerType()])\n",
      "\u001b[0;31mNameError\u001b[0m: name 'pandas_udf' is not defined"
     ]
    }
   ],
   "source": [
    "def add2(df: pd.DataFrame) -> pd.Series:\n",
    "    return df[0] + df[1]\n",
    "\n",
    "add_udf2 = pandas_udf(add2\n",
    "                     ,return_type=IntegerType()\n",
    "                     ,input_types=[IntegerType(), IntegerType()])"
   ]
  },
  {
   "cell_type": "code",
   "execution_count": 18,
   "metadata": {},
   "outputs": [
    {
     "name": "stdout",
     "output_type": "stream",
     "text": [
      "----------------\n",
      "|\"ADD_RESULT\"  |\n",
      "----------------\n",
      "|7             |\n",
      "|3             |\n",
      "----------------\n",
      "\n"
     ]
    }
   ],
   "source": [
    "df.select(add_udf2(\"a\", \"b\")).to_df(\"add_result\").show()"
   ]
  },
  {
   "cell_type": "code",
   "execution_count": null,
   "metadata": {},
   "outputs": [],
   "source": []
  },
  {
   "cell_type": "code",
   "execution_count": 2,
   "metadata": {},
   "outputs": [],
   "source": [
    "# Close Snowpark session\n",
    "session.close()"
   ]
  }
 ],
 "metadata": {
  "kernelspec": {
   "display_name": "snowpark10",
   "language": "python",
   "name": "python3"
  },
  "language_info": {
   "codemirror_mode": {
    "name": "ipython",
    "version": 3
   },
   "file_extension": ".py",
   "mimetype": "text/x-python",
   "name": "python",
   "nbconvert_exporter": "python",
   "pygments_lexer": "ipython3",
   "version": "3.10.13"
  }
 },
 "nbformat": 4,
 "nbformat_minor": 2
}
