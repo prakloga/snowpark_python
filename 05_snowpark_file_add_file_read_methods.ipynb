{
 "cells": [
  {
   "cell_type": "code",
   "execution_count": 1,
   "metadata": {},
   "outputs": [
    {
     "name": "stdout",
     "output_type": "stream",
     "text": [
      "Intel MKL WARNING: Support of Intel(R) Streaming SIMD Extensions 4.2 (Intel(R) SSE4.2) enabled only processors has been deprecated. Intel oneAPI Math Kernel Library 2025.0 will require Intel(R) Advanced Vector Extensions (Intel(R) AVX) instructions.\n",
      "Intel MKL WARNING: Support of Intel(R) Streaming SIMD Extensions 4.2 (Intel(R) SSE4.2) enabled only processors has been deprecated. Intel oneAPI Math Kernel Library 2025.0 will require Intel(R) Advanced Vector Extensions (Intel(R) AVX) instructions.\n"
     ]
    }
   ],
   "source": [
    "import os\n",
    "import json\n",
    "import pandas as pd\n",
    "import xgboost as xgb\n",
    "import configparser\n",
    "from snowflake.snowpark import Session\n",
    "from copy import copy\n",
    "from snowflake.snowpark import Row\n",
    "from snowflake.snowpark.functions import col, lit, sql_expr, get, get_path, udf, udtf, table_function, sproc, seq8, uniform\n",
    "from snowflake.snowpark.types import StructType, StructField, StringType, IntegerType, DecimalType, LongType\n",
    "from snowflake.snowpark.exceptions import SnowparkJoinException, SnowparkSQLException\n",
    "from snowflake.snowpark.files import SnowflakeFile\n",
    "\n",
    "# Read snowflake credentials securely\n",
    "config = configparser.ConfigParser()\n",
    "config.read('assets/credentials.cfg')\n",
    "\n",
    "connection_parameters = dict(\n",
    "   account   =  config['SNOWPARKAWS']['SNOWFLAKE_ACCOUNT'],\n",
    "   user      =  config['SNOWPARKAWS']['SNOWFLAKE_USER'],\n",
    "   password  =  config['SNOWPARKAWS']['SNOWFLAKE_PASSWORD'],\n",
    "   role      =  config['SNOWPARKAWS']['SNOWFLAKE_ROLE'],  # optional\n",
    "   warehouse =  config['SNOWPARKAWS']['SNOWFLAKE_WAREHOUSE'],  # optional\n",
    "   database  =  config['SNOWPARKAWS']['SNOWFLAKE_DATABASE'],  # optional\n",
    "   schema    =  config['SNOWPARKAWS']['SNOWFLAKE_SCHEMA'],  # optional\n",
    ")\n",
    "\n",
    "# Pass this dictionary to the Session.builder.configs method to return a builder object that has these connection parameters.\n",
    "# Call the create method of the builder to establish the session.\n",
    "session = Session.builder.configs(connection_parameters).create()"
   ]
  }
 ],
 "metadata": {
  "kernelspec": {
   "display_name": "snowpark10",
   "language": "python",
   "name": "python3"
  },
  "language_info": {
   "codemirror_mode": {
    "name": "ipython",
    "version": 3
   },
   "file_extension": ".py",
   "mimetype": "text/x-python",
   "name": "python",
   "nbconvert_exporter": "python",
   "pygments_lexer": "ipython3",
   "version": "3.10.13"
  }
 },
 "nbformat": 4,
 "nbformat_minor": 2
}
