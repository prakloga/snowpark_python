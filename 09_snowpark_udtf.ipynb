{
 "cells": [
  {
   "cell_type": "code",
   "execution_count": 31,
   "metadata": {},
   "outputs": [],
   "source": [
    "import os\n",
    "import sys\n",
    "import json\n",
    "import math\n",
    "import cachetools\n",
    "import numpy as np\n",
    "import pandas as pd\n",
    "import configparser\n",
    "from snowflake.snowpark import Session\n",
    "from copy import copy\n",
    "from snowflake.snowpark import Row\n",
    "import snowflake.snowpark.functions as F\n",
    "from snowflake.snowpark.functions import col, lit, sql_expr, get, get_path, udf, udtf, table_function, sproc, seq8, uniform, when_matched, when_not_matched, cast, try_cast, asc, asc_nulls_first, asc_nulls_last, collate, startswith, endswith, equal_nan, is_null, in_, when\n",
    "from snowflake.snowpark.types import StructType, StructField, StringType, IntegerType, DecimalType, LongType, BooleanType, FloatType, PandasSeries, PandasSeriesType, PandasDataFrame, PandasDataFrameType\n",
    "from snowflake.snowpark.exceptions import SnowparkJoinException, SnowparkSQLException\n",
    "from snowflake.snowpark.files import SnowflakeFile\n",
    "from snowflake.snowpark.column import METADATA_FILENAME, METADATA_FILE_ROW_NUMBER\n",
    "from collections import Counter\n",
    "from typing import Iterable, Tuple\n",
    "\n",
    "# Read snowflake credentials securely\n",
    "config = configparser.ConfigParser()\n",
    "config.read('assets/credentials.cfg')\n",
    "\n",
    "connection_parameters = dict(\n",
    "   account   =  config['SNOWPARKAWS']['SNOWFLAKE_ACCOUNT'],\n",
    "   user      =  config['SNOWPARKAWS']['SNOWFLAKE_USER'],\n",
    "   password  =  config['SNOWPARKAWS']['SNOWFLAKE_PASSWORD'],\n",
    "   role      =  config['SNOWPARKAWS']['SNOWFLAKE_ROLE'],  # optional\n",
    "   warehouse =  config['SNOWPARKAWS']['SNOWFLAKE_WAREHOUSE'],  # optional\n",
    "   database  =  config['SNOWPARKAWS']['SNOWFLAKE_DATABASE'],  # optional\n",
    "   schema    =  config['SNOWPARKAWS']['SNOWFLAKE_SCHEMA'],  # optional\n",
    ")\n",
    "\n",
    "# Pass this dictionary to the Session.builder.configs method to return a builder object that has these connection parameters.\n",
    "# Call the create method of the builder to establish the session.\n",
    "session = Session.builder.configs(connection_parameters).create()"
   ]
  },
  {
   "cell_type": "markdown",
   "metadata": {},
   "source": [
    "### `User-Defined Table Functions`\n",
    "\n",
    "- [udtf](https://docs.snowflake.com/en/developer-guide/snowpark/reference/python/latest/udtf) : User-defined table functions (UDTFs) in Snowpark.\n",
    "\n",
    "- `normal UDTF`: default row-by-row processing pattern\n",
    "- `vectorized Python UDTFs`: enable seamless partition-by-partition processing by operating on partitions as Pandas DataFrames and returning results as Pandas DataFrames or lists of Pandas arrays or Pandas Series."
   ]
  },
  {
   "cell_type": "markdown",
   "metadata": {},
   "source": [
    "`Example 1: Create a temporary UDTF and call it:`"
   ]
  },
  {
   "cell_type": "code",
   "execution_count": 2,
   "metadata": {},
   "outputs": [],
   "source": [
    "from snowflake.snowpark.types import IntegerType, StructField, StructType\n",
    "from snowflake.snowpark.functions import udtf, lit\n",
    "\n",
    "class GeneratorUDTF:\n",
    "    def process(self, n):\n",
    "        for i in range(n):\n",
    "            yield (i,)\n",
    "\n",
    "generator_udtf = udtf(GeneratorUDTF\n",
    "                      ,input_types=[IntegerType()]\n",
    "                      ,output_schema=StructType([StructField(\"number\", IntegerType())])\n",
    "                      )"
   ]
  },
  {
   "cell_type": "code",
   "execution_count": 3,
   "metadata": {},
   "outputs": [
    {
     "name": "stdout",
     "output_type": "stream",
     "text": [
      "------------\n",
      "|\"NUMBER\"  |\n",
      "------------\n",
      "|0         |\n",
      "|1         |\n",
      "|2         |\n",
      "|3         |\n",
      "|4         |\n",
      "|5         |\n",
      "|6         |\n",
      "|7         |\n",
      "------------\n",
      "\n"
     ]
    }
   ],
   "source": [
    "# Query it by calling it\n",
    "session.table_function(generator_udtf(lit(8))).show()"
   ]
  },
  {
   "cell_type": "code",
   "execution_count": 4,
   "metadata": {},
   "outputs": [
    {
     "name": "stdout",
     "output_type": "stream",
     "text": [
      "------------\n",
      "|\"NUMBER\"  |\n",
      "------------\n",
      "|0         |\n",
      "|1         |\n",
      "|2         |\n",
      "|3         |\n",
      "------------\n",
      "\n"
     ]
    }
   ],
   "source": [
    "# Query it by using the name\n",
    "session.table_function(generator_udtf.name, lit(4)).show()"
   ]
  },
  {
   "cell_type": "code",
   "execution_count": 5,
   "metadata": {},
   "outputs": [
    {
     "name": "stdout",
     "output_type": "stream",
     "text": [
      "------------------\n",
      "|\"C\"  |\"NUMBER\"  |\n",
      "------------------\n",
      "|2    |0         |\n",
      "|2    |1         |\n",
      "|3    |0         |\n",
      "|3    |1         |\n",
      "|3    |2         |\n",
      "------------------\n",
      "\n"
     ]
    }
   ],
   "source": [
    "# Or you can lateral-join a UDTF like any other table functions\n",
    "df = session.create_dataframe([2,3], schema=[\"c\"])\n",
    "\n",
    "df.join_table_function(generator_udtf(df[\"c\"])).sort(\"c\", \"number\").show()"
   ]
  },
  {
   "cell_type": "markdown",
   "metadata": {},
   "source": [
    "`Example 2: Create a UDTF with type hints and @udtf decorator and query it:`"
   ]
  },
  {
   "cell_type": "code",
   "execution_count": 12,
   "metadata": {},
   "outputs": [],
   "source": [
    "from snowflake.snowpark.types import IntegerType, StructField, StructType, Iterable\n",
    "from snowflake.snowpark.functions import udtf, lit\n",
    "from typing import Tuple\n",
    "\n",
    "@udtf(output_schema=[\"number\"])\n",
    "class generator_udtf:\n",
    "    def process(self, n: int)->Iterable[Tuple[int]]:\n",
    "        for i in range(n):\n",
    "            yield(i,)"
   ]
  },
  {
   "cell_type": "code",
   "execution_count": 13,
   "metadata": {},
   "outputs": [
    {
     "name": "stdout",
     "output_type": "stream",
     "text": [
      "------------\n",
      "|\"NUMBER\"  |\n",
      "------------\n",
      "|0         |\n",
      "|1         |\n",
      "|2         |\n",
      "------------\n",
      "\n"
     ]
    }
   ],
   "source": [
    "# Query it by calling it\n",
    "session.table_function(generator_udtf(lit(3))).show()"
   ]
  },
  {
   "cell_type": "code",
   "execution_count": 14,
   "metadata": {},
   "outputs": [
    {
     "name": "stdout",
     "output_type": "stream",
     "text": [
      "------------\n",
      "|\"NUMBER\"  |\n",
      "------------\n",
      "|0         |\n",
      "|1         |\n",
      "|2         |\n",
      "------------\n",
      "\n"
     ]
    }
   ],
   "source": [
    "# Query it by using the name\n",
    "session.table_function(generator_udtf.name, lit(3)).show()"
   ]
  },
  {
   "cell_type": "markdown",
   "metadata": {},
   "source": [
    "`Example 3: Create a permanent UDTF with a name and call it in SQL:`"
   ]
  },
  {
   "cell_type": "code",
   "execution_count": 15,
   "metadata": {},
   "outputs": [],
   "source": [
    "from snowflake.snowpark.types import IntegerType, StructField, StructType\n",
    "from snowflake.snowpark.functions import udtf, lit\n",
    "\n",
    "class GeneratorUDTF:\n",
    "    def process(self, n):\n",
    "        for i in range(n):\n",
    "            yield (i,)\n",
    "\n",
    "generator_udtf = udtf(GeneratorUDTF\n",
    "                     ,output_schema=StructType([StructField(\"number\", IntegerType())])\n",
    "                     ,input_types=[IntegerType()]\n",
    "                     ,is_permanent=True\n",
    "                     ,name=\"generator_udtf\"\n",
    "                     ,replace=True\n",
    "                     ,stage_location=\"@sf_udf_int_stg\"\n",
    "                    )"
   ]
  },
  {
   "cell_type": "code",
   "execution_count": 16,
   "metadata": {},
   "outputs": [
    {
     "name": "stdout",
     "output_type": "stream",
     "text": [
      "------------\n",
      "|\"NUMBER\"  |\n",
      "------------\n",
      "|0         |\n",
      "|1         |\n",
      "|2         |\n",
      "------------\n",
      "\n"
     ]
    }
   ],
   "source": [
    "session.sql(\"select * from table(generator_udtf(3))\").show()"
   ]
  },
  {
   "cell_type": "code",
   "execution_count": 18,
   "metadata": {},
   "outputs": [
    {
     "name": "stdout",
     "output_type": "stream",
     "text": [
      "------------\n",
      "|\"NUMBER\"  |\n",
      "------------\n",
      "|0         |\n",
      "|1         |\n",
      "|2         |\n",
      "------------\n",
      "\n"
     ]
    }
   ],
   "source": [
    "session.table_function(generator_udtf(lit(3))).show()"
   ]
  },
  {
   "cell_type": "markdown",
   "metadata": {},
   "source": [
    "`Example 4: Create a UDTF with type hints:`"
   ]
  },
  {
   "cell_type": "code",
   "execution_count": 19,
   "metadata": {},
   "outputs": [],
   "source": [
    "from snowflake.snowpark.types import IntegerType, StructField, StructType, Iterable\n",
    "from snowflake.snowpark.functions import udtf, lit\n",
    "from typing import Tuple\n",
    "\n",
    "@udtf(output_schema=[\"n1\",\"n2\"])\n",
    "class generator_udtf:\n",
    "    def process(self, n: int) -> Iterable[Tuple[int, int]]:\n",
    "        for i in range(n):\n",
    "            yield (i, i+1)"
   ]
  },
  {
   "cell_type": "code",
   "execution_count": 20,
   "metadata": {},
   "outputs": [
    {
     "name": "stdout",
     "output_type": "stream",
     "text": [
      "---------------\n",
      "|\"N1\"  |\"N2\"  |\n",
      "---------------\n",
      "|0     |1     |\n",
      "|1     |2     |\n",
      "|2     |3     |\n",
      "---------------\n",
      "\n"
     ]
    }
   ],
   "source": [
    "session.table_function(generator_udtf(lit(3))).show()"
   ]
  },
  {
   "cell_type": "markdown",
   "metadata": {},
   "source": [
    "`Example 5: Create a UDTF with type hints by using ... for multiple columns of the same type:`"
   ]
  },
  {
   "cell_type": "code",
   "execution_count": 21,
   "metadata": {},
   "outputs": [],
   "source": [
    "from snowflake.snowpark.types import IntegerType, StructField, StructType, Iterable\n",
    "from snowflake.snowpark.functions import udtf, lit\n",
    "from typing import Tuple\n",
    "\n",
    "@udtf(output_schema=[\"n1\",\"n2\"])\n",
    "class generator_udtf:\n",
    "    def process(self, n: int) -> Iterable[Tuple[int, ...]]:\n",
    "        for i in range(n):\n",
    "            yield (i, i+1)"
   ]
  },
  {
   "cell_type": "code",
   "execution_count": 22,
   "metadata": {},
   "outputs": [
    {
     "name": "stdout",
     "output_type": "stream",
     "text": [
      "---------------\n",
      "|\"N1\"  |\"N2\"  |\n",
      "---------------\n",
      "|0     |1     |\n",
      "|1     |2     |\n",
      "|2     |3     |\n",
      "---------------\n",
      "\n"
     ]
    }
   ],
   "source": [
    "session.table_function(generator_udtf(lit(3))).show()"
   ]
  },
  {
   "cell_type": "markdown",
   "metadata": {},
   "source": [
    "`Example 6: Create a UDTF with UDF-level imports and type hints:`"
   ]
  },
  {
   "cell_type": "code",
   "execution_count": 23,
   "metadata": {},
   "outputs": [],
   "source": [
    "from scripts.mod5 import mod5\n",
    "from snowflake.snowpark.types import IntegerType, StructField, StructType, Iterable\n",
    "from snowflake.snowpark.functions import udtf, lit\n",
    "from typing import Tuple\n",
    "\n",
    "@udtf(output_schema=[\"number\"], imports=[(\"scripts/mod5.py\", \"scripts.mod5\")])\n",
    "class generator_udtf:\n",
    "    def process(self, n: int)->Iterable[Tuple[int]]:\n",
    "        for i in range(n):\n",
    "            yield(mod5(i),)"
   ]
  },
  {
   "cell_type": "code",
   "execution_count": 24,
   "metadata": {},
   "outputs": [
    {
     "name": "stdout",
     "output_type": "stream",
     "text": [
      "------------\n",
      "|\"NUMBER\"  |\n",
      "------------\n",
      "|0         |\n",
      "|1         |\n",
      "|2         |\n",
      "|3         |\n",
      "|4         |\n",
      "|0         |\n",
      "------------\n",
      "\n"
     ]
    }
   ],
   "source": [
    "session.table_function(generator_udtf(lit(6))).show()"
   ]
  },
  {
   "cell_type": "markdown",
   "metadata": {},
   "source": [
    "`Example 7: Create a UDTF with UDF-level packages and type hints:`"
   ]
  },
  {
   "cell_type": "code",
   "execution_count": 25,
   "metadata": {},
   "outputs": [],
   "source": [
    "from scripts.mod5 import mod5\n",
    "from snowflake.snowpark.types import IntegerType, StructField, StructType, Iterable\n",
    "from snowflake.snowpark.functions import udtf, lit\n",
    "from typing import Tuple\n",
    "import numpy as np\n",
    "\n",
    "@udtf(output_schema=[\"number\"], packages=[\"numpy\"])\n",
    "class generator_udtf:\n",
    "    def process(self, n: int)->Iterable[Tuple[int]]:\n",
    "        for i in np.arange(n):\n",
    "            yield(i,)"
   ]
  },
  {
   "cell_type": "code",
   "execution_count": 26,
   "metadata": {},
   "outputs": [
    {
     "name": "stdout",
     "output_type": "stream",
     "text": [
      "------------\n",
      "|\"NUMBER\"  |\n",
      "------------\n",
      "|0         |\n",
      "|1         |\n",
      "|2         |\n",
      "|3         |\n",
      "|4         |\n",
      "|5         |\n",
      "------------\n",
      "\n"
     ]
    }
   ],
   "source": [
    "session.table_function(generator_udtf(lit(6))).show()"
   ]
  },
  {
   "cell_type": "markdown",
   "metadata": {},
   "source": [
    "`Example 8: Creating a UDTF with the constructor and end_partition method.`"
   ]
  },
  {
   "cell_type": "code",
   "execution_count": 33,
   "metadata": {},
   "outputs": [],
   "source": [
    "from collections import Counter\n",
    "from typing import Iterable, Tuple\n",
    "from snowflake.snowpark.functions import lit\n",
    "\n",
    "class MyWordCount:\n",
    "    def __init__(self) -> None:\n",
    "        self._total_per_partition = 0\n",
    "\n",
    "    def process(self, s1: str) -> Iterable[Tuple[str, int]]:\n",
    "        words = s1.split()\n",
    "        self._total_per_partition = len(words)\n",
    "        counter = Counter(words)\n",
    "        yield from counter.items()\n",
    "\n",
    "    def end_partition(self):\n",
    "        yield (\"partition_total\", self._total_per_partition)"
   ]
  },
  {
   "cell_type": "code",
   "execution_count": 34,
   "metadata": {},
   "outputs": [],
   "source": [
    "udtf_name = \"word_count_udtf\"\n",
    "word_count_udtf = session.udtf.register(MyWordCount\n",
    "                                      ,[\"word\", \"count\"]\n",
    "                                      ,name=udtf_name\n",
    "                                      ,is_permanent=False\n",
    "                                      ,replace=True\n",
    "                                       )"
   ]
  },
  {
   "cell_type": "code",
   "execution_count": 30,
   "metadata": {},
   "outputs": [
    {
     "name": "stdout",
     "output_type": "stream",
     "text": [
      "-----------------------------\n",
      "|\"WORD\"           |\"COUNT\"  |\n",
      "-----------------------------\n",
      "|w1               |1        |\n",
      "|w2               |2        |\n",
      "|w3               |3        |\n",
      "|partition_total  |6        |\n",
      "-----------------------------\n",
      "\n"
     ]
    }
   ],
   "source": [
    "# Call it by its name\n",
    "df1 = session.table_function(udtf_name, lit(\"w1 w2 w2 w3 w3 w3\"))\n",
    "df1.show()"
   ]
  },
  {
   "cell_type": "code",
   "execution_count": 35,
   "metadata": {},
   "outputs": [
    {
     "name": "stdout",
     "output_type": "stream",
     "text": [
      "-----------------------------\n",
      "|\"WORD\"           |\"COUNT\"  |\n",
      "-----------------------------\n",
      "|w1               |1        |\n",
      "|w2               |2        |\n",
      "|w3               |3        |\n",
      "|partition_total  |6        |\n",
      "-----------------------------\n",
      "\n"
     ]
    }
   ],
   "source": [
    "# Call it by the returned callable instance\n",
    "df2 = session.table_function(word_count_udtf(lit(\"w1 w2 w2 w3 w3 w3\")))\n",
    "df2.show()"
   ]
  },
  {
   "cell_type": "markdown",
   "metadata": {},
   "source": [
    "`Example 9: Creating a UDTF from a local Python file:`"
   ]
  },
  {
   "cell_type": "code",
   "execution_count": 37,
   "metadata": {},
   "outputs": [],
   "source": [
    "from snowflake.snowpark.types import StructType, StructField, StringType, IntegerType, BooleanType, DecimalType, LongType\n",
    "from snowflake.snowpark.functions import udtf, lit\n",
    "\n",
    "generator_udtf = session.udtf.register_from_file(\n",
    "     file_path=\"scripts/test_udtf_file.py\"\n",
    "    ,handler_name=\"GeneratorUDTF\"\n",
    "    ,output_schema=StructType([StructField(\"number\", IntegerType())])\n",
    "    ,input_types=[IntegerType()]\n",
    "                                               )"
   ]
  },
  {
   "cell_type": "code",
   "execution_count": 38,
   "metadata": {},
   "outputs": [
    {
     "name": "stdout",
     "output_type": "stream",
     "text": [
      "------------\n",
      "|\"NUMBER\"  |\n",
      "------------\n",
      "|0         |\n",
      "|1         |\n",
      "|2         |\n",
      "------------\n",
      "\n"
     ]
    }
   ],
   "source": [
    "session.table_function(generator_udtf(lit(3))).show()"
   ]
  },
  {
   "cell_type": "markdown",
   "metadata": {},
   "source": [
    "`Example 10: Creating a UDTF from a Python file on an internal stage:`"
   ]
  },
  {
   "cell_type": "code",
   "execution_count": 39,
   "metadata": {},
   "outputs": [
    {
     "data": {
      "text/plain": [
       "[PutResult(source='test_udtf_file.py', target='test_udtf_file.py', source_size=96, target_size=112, source_compression='NONE', target_compression='NONE', status='UPLOADED', message='')]"
      ]
     },
     "execution_count": 39,
     "metadata": {},
     "output_type": "execute_result"
    }
   ],
   "source": [
    "# Loading the file to snowflake Stage\n",
    "session.file.put('scripts/test_udtf_file.py', \"@SF_INT_STG\", auto_compress=False, overwrite=True)"
   ]
  },
  {
   "cell_type": "code",
   "execution_count": 42,
   "metadata": {},
   "outputs": [
    {
     "name": "stdout",
     "output_type": "stream",
     "text": [
      "------------------------------------------------------------------------------------------------------------------------------------\n",
      "|\"name\"                                              |\"size\"    |\"md5\"                             |\"last_modified\"                |\n",
      "------------------------------------------------------------------------------------------------------------------------------------\n",
      "|sf_int_stg/avro_dataset.avro                        |19114464  |71cf879b3e591be4443b9bbee339d394  |Thu, 14 Dec 2023 15:07:51 GMT  |\n",
      "|sf_int_stg/car_sales.json                           |848       |d69652cd0d10f4651db31c180bd8dff6  |Fri, 8 Dec 2023 17:25:35 GMT   |\n",
      "|sf_int_stg/car_sales1.json                          |656       |04c4262b096991965a9887a75393ef8d  |Sat, 9 Dec 2023 00:59:33 GMT   |\n",
      "|sf_int_stg/cities.parquet                           |880       |66d6d49b068c5062c4ac8e7c7aaeef8b  |Thu, 14 Dec 2023 15:07:56 GMT  |\n",
      "|sf_int_stg/copyloc/PLOGANATHAN/data_01b0fc8e-06...  |18000     |4afc3c43bcb4355b0650f41e459b1270  |Thu, 14 Dec 2023 16:46:18 GMT  |\n",
      "|sf_int_stg/copyloc/WORKSHEETS_APP_USER/data_01b...  |18320     |1aefc8de664d878cf973584a9e813a51  |Thu, 14 Dec 2023 16:46:18 GMT  |\n",
      "|sf_int_stg/csv_dataset.csv                          |160       |d77e3d06f74284db17409715dbbece10  |Thu, 14 Dec 2023 15:07:46 GMT  |\n",
      "|sf_int_stg/data1.csv                                |32        |ba2e510d1d6a424a5b0da2be426dad7f  |Fri, 8 Dec 2023 15:30:23 GMT   |\n",
      "|sf_int_stg/data1.json                               |80        |1a1c422f98f927bb42fdcdecab72faae  |Fri, 8 Dec 2023 15:30:23 GMT   |\n",
      "|sf_int_stg/hollidaygreetings.jpeg                   |254272    |d389b460ed09d7f958868392536ab415  |Thu, 14 Dec 2023 17:13:58 GMT  |\n",
      "|sf_int_stg/json_dataset.json                        |15808     |5ab80fa0de84f3c2468039708edb10f5  |Thu, 14 Dec 2023 15:07:54 GMT  |\n",
      "|sf_int_stg/loginhistory/refresh_login_history.py    |368       |6ddc505cb1eb7799f36087bf2754d836  |Sat, 16 Dec 2023 15:44:02 GMT  |\n",
      "|sf_int_stg/loginhistory_sp/refresh_login_histor...  |368       |1cfdb1d24ee7b0835fa0cad8c87a92bf  |Sat, 16 Dec 2023 15:57:31 GMT  |\n",
      "|sf_int_stg/mod5.py                                  |48        |ba4ad1a67d9fc52ad3096b96398ffd79  |Sat, 16 Dec 2023 17:52:20 GMT  |\n",
      "|sf_int_stg/mod5.py.gz                               |80        |913032dfd39b788b6b66aefc065bd11c  |Sat, 16 Dec 2023 17:52:03 GMT  |\n",
      "|sf_int_stg/orc_dataset.orc                          |41936     |1acd2d599274e33794db5527960b71bb  |Thu, 14 Dec 2023 15:07:55 GMT  |\n",
      "|sf_int_stg/sales.json                               |320       |6019c0d9cef2959d7e6cd54ce6319904  |Fri, 8 Dec 2023 15:30:23 GMT   |\n",
      "|sf_int_stg/test_udf_file.py                         |48        |5ccc824fece95f654836a6f862415576  |Sat, 9 Dec 2023 02:40:59 GMT   |\n",
      "|sf_int_stg/test_udtf_file.py                        |112       |6de174a997489fa433980d7eee4fa288  |Tue, 19 Dec 2023 16:28:18 GMT  |\n",
      "|sf_int_stg/xml_dataset.xml                          |4560      |45c138faef8adbcd03317b3bb639a380  |Thu, 14 Dec 2023 15:07:55 GMT  |\n",
      "------------------------------------------------------------------------------------------------------------------------------------\n",
      "\n"
     ]
    }
   ],
   "source": [
    "session.sql(\"list @SF_INT_STG\").show(50)"
   ]
  },
  {
   "cell_type": "code",
   "execution_count": 43,
   "metadata": {},
   "outputs": [],
   "source": [
    "from snowflake.snowpark.types import StructType, StructField, StringType, IntegerType, BooleanType, DecimalType, LongType\n",
    "from snowflake.snowpark.functions import udtf, lit\n",
    "\n",
    "generator_udtf = session.udtf.register_from_file(\n",
    "     file_path=\"@sf_int_stg/test_udtf_file.py\"\n",
    "    ,handler_name=\"GeneratorUDTF\"\n",
    "    ,output_schema=StructType([StructField(\"number\", IntegerType())])\n",
    "    ,input_types=[IntegerType()]\n",
    ")"
   ]
  },
  {
   "cell_type": "code",
   "execution_count": 44,
   "metadata": {},
   "outputs": [
    {
     "name": "stdout",
     "output_type": "stream",
     "text": [
      "------------\n",
      "|\"NUMBER\"  |\n",
      "------------\n",
      "|0         |\n",
      "|1         |\n",
      "|2         |\n",
      "------------\n",
      "\n"
     ]
    }
   ],
   "source": [
    "session.table_function(generator_udtf(lit(3))).show()"
   ]
  },
  {
   "cell_type": "markdown",
   "metadata": {},
   "source": [
    "`Example 11: Creating a vectorized UDTF by specifying a PandasDataFrameType as input_types and a PandasDataFrameType with column names as output_schema.`"
   ]
  },
  {
   "cell_type": "code",
   "execution_count": 49,
   "metadata": {},
   "outputs": [],
   "source": [
    "from snowflake.snowpark.types import PandasDataFrameType, IntegerType, StringType, FloatType\n",
    "\n",
    "class multiply:\n",
    "     def __init__(self):\n",
    "         self.multiplier = 10\n",
    "         \n",
    "     def end_partition(self, df):\n",
    "         df.col1 = df.col1*self.multiplier\n",
    "         df.col2 = df.col2*self.multiplier\n",
    "         yield df"
   ]
  },
  {
   "cell_type": "code",
   "execution_count": 50,
   "metadata": {},
   "outputs": [],
   "source": [
    "multiply_udtf = session.udtf.register(\n",
    "     multiply,\n",
    "     output_schema=PandasDataFrameType([StringType(), IntegerType(), FloatType()], [\"id_\", \"col1_\", \"col2_\"]),\n",
    "     input_types=[PandasDataFrameType([StringType(), IntegerType(), FloatType()])],\n",
    "     input_names = ['\"id\"', '\"col1\"', '\"col2\"'],\n",
    " )"
   ]
  },
  {
   "cell_type": "code",
   "execution_count": 52,
   "metadata": {},
   "outputs": [
    {
     "name": "stdout",
     "output_type": "stream",
     "text": [
      "-----------------------------\n",
      "|\"ID_\"  |\"COL1_\"  |\"COL2_\"  |\n",
      "-----------------------------\n",
      "|x      |30       |359.0    |\n",
      "|y      |90       |205.0    |\n",
      "-----------------------------\n",
      "\n"
     ]
    }
   ],
   "source": [
    "df = session.create_dataframe([['x', 3, 35.9],['y', 9, 20.5]], schema=[\"id\", \"col1\", \"col2\"])\n",
    "df.select(multiply_udtf(\"id\", \"col1\", \"col2\").over(partition_by=[\"id\"])).sort(\"col1_\").show()"
   ]
  },
  {
   "cell_type": "markdown",
   "metadata": {},
   "source": [
    "`Example 12: Creating a vectorized UDTF by specifying PandasDataFrame with nested types as type hints.`"
   ]
  },
  {
   "cell_type": "code",
   "execution_count": 53,
   "metadata": {},
   "outputs": [],
   "source": [
    "from snowflake.snowpark.types import PandasDataFrame\n",
    "\n",
    "class multiply:\n",
    "    def __init__(self):\n",
    "        self.multiplier = 10\n",
    "        \n",
    "    def end_partition(self, df: PandasDataFrame[str, int, float]) -> PandasDataFrame[str, int, float]:\n",
    "        df.col1 = df.col1*self.multiplier\n",
    "        df.col2 = df.col2*self.multiplier\n",
    "        yield df"
   ]
  },
  {
   "cell_type": "code",
   "execution_count": 54,
   "metadata": {},
   "outputs": [],
   "source": [
    "multiply_udtf = session.udtf.register(\n",
    "    multiply,\n",
    "    output_schema=[\"id_\", \"col1_\", \"col2_\"],\n",
    "    input_names = ['\"id\"', '\"col1\"', '\"col2\"'],\n",
    ")"
   ]
  },
  {
   "cell_type": "code",
   "execution_count": 55,
   "metadata": {},
   "outputs": [
    {
     "name": "stdout",
     "output_type": "stream",
     "text": [
      "-----------------------------\n",
      "|\"ID_\"  |\"COL1_\"  |\"COL2_\"  |\n",
      "-----------------------------\n",
      "|x      |30       |359.0    |\n",
      "|y      |90       |205.0    |\n",
      "-----------------------------\n",
      "\n"
     ]
    }
   ],
   "source": [
    "df = session.create_dataframe([['x', 3, 35.9],['y', 9, 20.5]], schema=[\"id\", \"col1\", \"col2\"])\n",
    "df.select(multiply_udtf(\"id\", \"col1\", \"col2\").over(partition_by=[\"id\"])).sort(\"col1_\").show()"
   ]
  },
  {
   "cell_type": "markdown",
   "metadata": {},
   "source": [
    "`Example 13: Creating a vectorized UDTF by specifying a pandas.DataFrame as type hints and a StructType with type information and column names as output_schema.`"
   ]
  },
  {
   "cell_type": "code",
   "execution_count": 57,
   "metadata": {},
   "outputs": [],
   "source": [
    "import pandas as pd\n",
    "from snowflake.snowpark.types import IntegerType, StringType, FloatType, StructType, StructField\n",
    "\n",
    "class multiply:\n",
    "    def __init__(self):\n",
    "        self.multiplier = 10\n",
    "        \n",
    "    def end_partition(self, df: pd.DataFrame) -> pd.DataFrame:\n",
    "        df.col1 = df.col1*self.multiplier\n",
    "        df.col2 = df.col2*self.multiplier\n",
    "        yield df"
   ]
  },
  {
   "cell_type": "code",
   "execution_count": 58,
   "metadata": {},
   "outputs": [],
   "source": [
    "multiply_udtf = session.udtf.register(\n",
    "    multiply,\n",
    "    output_schema=StructType([StructField(\"id_\", StringType()), StructField(\"col1_\", IntegerType()), StructField(\"col2_\", FloatType())]),\n",
    "    input_types=[StringType(), IntegerType(), FloatType()],\n",
    "    input_names = ['\"id\"', '\"col1\"', '\"col2\"'],\n",
    ")"
   ]
  },
  {
   "cell_type": "code",
   "execution_count": 59,
   "metadata": {},
   "outputs": [
    {
     "name": "stdout",
     "output_type": "stream",
     "text": [
      "-----------------------------\n",
      "|\"ID_\"  |\"COL1_\"  |\"COL2_\"  |\n",
      "-----------------------------\n",
      "|x      |30       |359.0    |\n",
      "|y      |90       |205.0    |\n",
      "-----------------------------\n",
      "\n"
     ]
    }
   ],
   "source": [
    "df = session.create_dataframe([['x', 3, 35.9],['y', 9, 20.5]], schema=[\"id\", \"col1\", \"col2\"])\n",
    "df.select(multiply_udtf(\"id\", \"col1\", \"col2\").over(partition_by=[\"id\"])).sort(\"col1_\").show()"
   ]
  },
  {
   "cell_type": "markdown",
   "metadata": {},
   "source": [
    "`Example 14: Same as Example 12, but does not specify input_names and instead set the column names in end_partition.`"
   ]
  },
  {
   "cell_type": "code",
   "execution_count": 60,
   "metadata": {},
   "outputs": [],
   "source": [
    "from snowflake.snowpark.types import PandasDataFrameType, IntegerType, StringType, FloatType\n",
    "\n",
    "class multiply:\n",
    "    def __init__(self):\n",
    "        self.multiplier = 10\n",
    "\n",
    "    def end_partition(self, df):\n",
    "        df.columns = [\"id\", \"col1\", \"col2\"]\n",
    "        df.col1 = df.col1*self.multiplier\n",
    "        df.col2 = df.col2*self.multiplier\n",
    "        yield df"
   ]
  },
  {
   "cell_type": "code",
   "execution_count": 61,
   "metadata": {},
   "outputs": [],
   "source": [
    "multiply_udtf = session.udtf.register(\n",
    "    multiply,\n",
    "    output_schema=PandasDataFrameType([StringType(), IntegerType(), FloatType()], [\"id_\", \"col1_\", \"col2_\"]),\n",
    "    input_types=[PandasDataFrameType([StringType(), IntegerType(), FloatType()])],\n",
    ")"
   ]
  },
  {
   "cell_type": "code",
   "execution_count": 62,
   "metadata": {},
   "outputs": [
    {
     "name": "stdout",
     "output_type": "stream",
     "text": [
      "-----------------------------\n",
      "|\"ID_\"  |\"COL1_\"  |\"COL2_\"  |\n",
      "-----------------------------\n",
      "|x      |30       |359.0    |\n",
      "|y      |90       |205.0    |\n",
      "-----------------------------\n",
      "\n"
     ]
    }
   ],
   "source": [
    "df = session.create_dataframe([['x', 3, 35.9],['y', 9, 20.5]], schema=[\"id\", \"col1\", \"col2\"])\n",
    "df.select(multiply_udtf(\"id\", \"col1\", \"col2\").over(partition_by=[\"id\"])).sort(\"col1_\").show()"
   ]
  },
  {
   "cell_type": "code",
   "execution_count": null,
   "metadata": {},
   "outputs": [],
   "source": []
  },
  {
   "cell_type": "code",
   "execution_count": 63,
   "metadata": {},
   "outputs": [],
   "source": [
    "# Close Snowpark session\n",
    "session.close()"
   ]
  }
 ],
 "metadata": {
  "kernelspec": {
   "display_name": "snowpark10",
   "language": "python",
   "name": "python3"
  },
  "language_info": {
   "codemirror_mode": {
    "name": "ipython",
    "version": 3
   },
   "file_extension": ".py",
   "mimetype": "text/x-python",
   "name": "python",
   "nbconvert_exporter": "python",
   "pygments_lexer": "ipython3",
   "version": "3.10.13"
  }
 },
 "nbformat": 4,
 "nbformat_minor": 2
}
