{
 "cells": [
  {
   "cell_type": "code",
   "execution_count": 32,
   "metadata": {},
   "outputs": [],
   "source": [
    "# Establish session connection\n",
    "from assets.config import connection_builder\n",
    "session = connection_builder()"
   ]
  },
  {
   "cell_type": "code",
   "execution_count": 33,
   "metadata": {},
   "outputs": [],
   "source": [
    "# Adding libraries to Snowpark session\n",
    "from assets.mod5 import mod5\n",
    "session.add_import('assets/mod5.py','mod5')"
   ]
  },
  {
   "cell_type": "code",
   "execution_count": 34,
   "metadata": {},
   "outputs": [],
   "source": [
    "import numpy as np \n",
    "from snowflake.snowpark.functions import udf\n",
    "\n",
    "session.add_packages(np)"
   ]
  },
  {
   "cell_type": "code",
   "execution_count": 35,
   "metadata": {},
   "outputs": [],
   "source": [
    "# Adding Packages to Snowpark Session via requirements \n",
    "session.add_requirements(file_path=\"assets/requirements.txt\")"
   ]
  },
  {
   "cell_type": "markdown",
   "metadata": {},
   "source": [
    "`Getting Session Details using Snowpark Session methods`\n",
    "\n",
    "- Snowflake Snowpark API provides methods to extract the current active session context details. This includes:\n",
    "\n",
    "| Snowpark Method | Description |\n",
    "|--|--|\n",
    "| Session.get_current_account() | Returns the name of the current account for the Python connector session attached to this session |\n",
    "| Session.get_current_database() | Returns the name of the current database for the Python connector session attached to this session |\n",
    "| Session.get_current_role() | Returns the name of the primary role in use for the current session |\n",
    "| Session.get_current_schema() | Returns the name of the current schema for the Python connector session attached to this session |\n",
    "| Session.get_current_warehouse() | Returns the name of the warehouse in use for the current session |\n",
    "| Session.get_fully_qualified_current_schema() | Returns the fully qualified name of the current schema for the session |\n",
    "| Session.get_imports() | Returns a list of imports added for user defined functions (UDFs). This list includes any Python or zip files that were added automatically by the library |\n",
    "| Session.get_packages() | Returns a dict of packages added for user-defined functions (UDFs). The key of this dict is the package name and the value of this dict is the corresponding requirement specifier |\n",
    "| Session.get_session_stage() | Returns the name of the temporary stage created by the Snowpark library for uploading and storing temporary artifacts for this session. |"
   ]
  },
  {
   "cell_type": "code",
   "execution_count": 28,
   "metadata": {},
   "outputs": [
    {
     "name": "stdout",
     "output_type": "stream",
     "text": [
      "Role Name          :  \"SYSADMIN\"\n",
      "Database Name      :  \"SNOWPARK_DB\"\n",
      "Schema Name        :  \"PUBLIC\"\n",
      "Warehouse Name     :  \"SNOWPARK_OPT_WH\"\n",
      "DB.SCH Name        :  \"SNOWPARK_DB\".\"PUBLIC\"\n",
      "Packages Name      :  {'numpy': 'numpy==1.26.0', 'pandas': 'pandas'}\n",
      "Stage Name         :  @\"SNOWPARK_DB\".\"PUBLIC\".SNOWPARK_TEMP_STAGE_B8WXDJCY06\n"
     ]
    }
   ],
   "source": [
    "print(\"Account Name       : \", session.get_current_account())\n",
    "print(\"Role Name          : \", session.get_current_role())\n",
    "print(\"Database Name      : \", session.get_current_database())\n",
    "print(\"Schema Name        : \", session.get_current_schema())\n",
    "print(\"Warehouse Name     : \", session.get_current_warehouse())\n",
    "print(\"DB.SCH Name        : \", session.get_fully_qualified_current_schema())\n",
    "print(\"Imports Name       : \", session.get_imports())\n",
    "print(\"Packages Name      : \", session.get_packages())\n",
    "print(\"Stage Name         : \", session.get_session_stage())\n"
   ]
  },
  {
   "cell_type": "markdown",
   "metadata": {},
   "source": [
    "`Setting Up Snowflake Session Context using Snowpark API`\n",
    "\n",
    "- Snowflake Snowpark API provides methods to specifies the session context.\n",
    "\n",
    "|Snowpark Method| Description |\n",
    "|--|--|\n",
    "|Session.use_database()|Specifies the active/current database for the session|\n",
    "|Session.use_role()|Specifies the active/current primary role for the session|\n",
    "|Session.use_schema()|Specifies the active/current schema for the session|\n",
    "|Session.use_secondary_roles()|Specifies the active/current secondary roles for the session. The currently-active secondary roles set the context that determines whether the current user has the necessary privileges to perform SQL actions|\n",
    "|Session.use_warehouse()|Specifies the active/current warehouse for the session|"
   ]
  },
  {
   "cell_type": "code",
   "execution_count": 26,
   "metadata": {},
   "outputs": [],
   "source": [
    "session.use_database(\"SNOWPARK_DB\")\n",
    "session.use_schema(\"PUBLIC\")\n",
    "session.use_role(\"SYSADMIN\")\n",
    "session.use_warehouse(\"SNOWPARK_OPT_WH\")\n",
    "session.use_secondary_roles(\"HOL_ROLE\")"
   ]
  },
  {
   "cell_type": "markdown",
   "metadata": {},
   "source": [
    "`Cleaning Up Session's Context and Configurations`\n",
    "\n",
    "- While you have Session methods to add imports or third party packages, Snowflake Snowpark API also provides the methods to remove or clear the packages or imports. Also You can terminate the entire session using Session.close()\n",
    "\n",
    "|Snowpark Method | Description | \n",
    "|--|--|\n",
    "|Session.remove_import()|Removes a file in stage or local file from the imports of a user-defined function|\n",
    "|Session.remove_package()|Removes a third-party package from the dependency list of a user-defined function|\n",
    "|Session.clear()|Removes a file in stage or local file from the imports of a user-defined function|\n",
    "|Session.clear_imports()|Clears all files in a stage or local files from the imports of a user-defined function|\n",
    "|Session.clear_packages()|Clears all files in a stage or local files from the packages of a user-defined function|\n",
    "|Session.close()|Terminate the snowflake Session|"
   ]
  },
  {
   "cell_type": "code",
   "execution_count": 36,
   "metadata": {},
   "outputs": [],
   "source": [
    "session.remove_import('assets/mod5.py')\n",
    "session.remove_package('numpy')\n",
    "session.clear()\n",
    "session.clear_imports()\n",
    "session.clear_packages()"
   ]
  },
  {
   "cell_type": "code",
   "execution_count": null,
   "metadata": {},
   "outputs": [],
   "source": []
  },
  {
   "cell_type": "code",
   "execution_count": 37,
   "metadata": {},
   "outputs": [],
   "source": [
    "# Close Snowpark session\n",
    "session.close()"
   ]
  }
 ],
 "metadata": {
  "kernelspec": {
   "display_name": "snowpark10",
   "language": "python",
   "name": "python3"
  },
  "language_info": {
   "codemirror_mode": {
    "name": "ipython",
    "version": 3
   },
   "file_extension": ".py",
   "mimetype": "text/x-python",
   "name": "python",
   "nbconvert_exporter": "python",
   "pygments_lexer": "ipython3",
   "version": "3.10.13"
  }
 },
 "nbformat": 4,
 "nbformat_minor": 2
}
