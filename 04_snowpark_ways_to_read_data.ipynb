{
 "cells": [
  {
   "cell_type": "code",
   "execution_count": 23,
   "metadata": {},
   "outputs": [],
   "source": [
    "import os\n",
    "import json\n",
    "import pandas as pd\n",
    "import xgboost as xgb\n",
    "import configparser\n",
    "from snowflake.snowpark import Session\n",
    "from copy import copy\n",
    "from snowflake.snowpark import Row\n",
    "from snowflake.snowpark.functions import col, lit, sql_expr, get, get_path, udf, udtf, table_function, sproc, seq8, uniform\n",
    "from snowflake.snowpark.types import StructType, StructField, StringType, IntegerType, DecimalType, LongType\n",
    "from snowflake.snowpark.exceptions import SnowparkJoinException, SnowparkSQLException\n",
    "from snowflake.snowpark.files import SnowflakeFile\n",
    "\n",
    "# Read snowflake credentials securely\n",
    "config = configparser.ConfigParser()\n",
    "config.read('assets/credentials.cfg')\n",
    "\n",
    "connection_parameters = dict(\n",
    "   account   =  config['SNOWPARKAWS']['SNOWFLAKE_ACCOUNT'],\n",
    "   user      =  config['SNOWPARKAWS']['SNOWFLAKE_USER'],\n",
    "   password  =  config['SNOWPARKAWS']['SNOWFLAKE_PASSWORD'],\n",
    "   role      =  config['SNOWPARKAWS']['SNOWFLAKE_ROLE'],  # optional\n",
    "   warehouse =  config['SNOWPARKAWS']['SNOWFLAKE_WAREHOUSE'],  # optional\n",
    "   database  =  config['SNOWPARKAWS']['SNOWFLAKE_DATABASE'],  # optional\n",
    "   schema    =  config['SNOWPARKAWS']['SNOWFLAKE_SCHEMA'],  # optional\n",
    ")\n",
    "\n",
    "# Pass this dictionary to the Session.builder.configs method to return a builder object that has these connection parameters.\n",
    "# Call the create method of the builder to establish the session.\n",
    "session = Session.builder.configs(connection_parameters).create()"
   ]
  },
  {
   "cell_type": "markdown",
   "metadata": {},
   "source": [
    "`Understanding Different Ways to Read Data Using Snowpark Session Methods`\n",
    "\n",
    "- There are different ways you can interract with snowflake to fetch the data from the tables or using a SQL syntax. The below mentioned are ways to read the data:\n",
    "\n",
    "|Snowpark Method|Description|\n",
    "|--|--|\n",
    "|Session.table()|Returns a Table that points the specified table|\n",
    "|Session.sql()|Returns a new DataFrame representing the results of a SQL query. You can use this method to execute a SQL statement|\n",
    "|Session.call()|Calls a stored procedure by name|\n",
    "|Session.table_function()|Creates a new DataFrame from the given snowflake SQL table function|"
   ]
  },
  {
   "cell_type": "markdown",
   "metadata": {},
   "source": [
    "- Snowpark Session: https://docs.snowflake.com/en/developer-guide/snowpark/reference/python/latest/session"
   ]
  },
  {
   "cell_type": "markdown",
   "metadata": {},
   "source": [
    "`Session.table()`\n",
    "- https://docs.snowflake.com/en/developer-guide/snowpark/reference/python/latest/api/snowflake.snowpark.Session.table"
   ]
  },
  {
   "cell_type": "code",
   "execution_count": 5,
   "metadata": {},
   "outputs": [],
   "source": [
    "session.table(\"SNOWFLAKE.ACCOUNT_USAGE.QUERY_HISTORY\").limit(2).to_pandas()"
   ]
  },
  {
   "cell_type": "code",
   "execution_count": 2,
   "metadata": {},
   "outputs": [
    {
     "name": "stdout",
     "output_type": "stream",
     "text": [
      "--------------------------------------------------------------------------------------------------------------\n",
      "|\"QUERY_ID\"                            |\"START_TIME\"                      |\"END_TIME\"                        |\n",
      "--------------------------------------------------------------------------------------------------------------\n",
      "|01b037e0-0404-d217-0000-000202db7009  |2023-11-09 09:36:23.675000-08:00  |2023-11-09 09:36:23.909000-08:00  |\n",
      "|01b037e0-0404-d17f-0000-000202db2005  |2023-11-09 09:36:19.313000-08:00  |2023-11-09 09:36:19.552000-08:00  |\n",
      "|01b037dd-0404-d101-0000-00000202db30  |2023-11-09 09:33:23.558000-08:00  |2023-11-09 09:33:23.684000-08:00  |\n",
      "|01b037e0-0404-d114-0000-000202db300d  |2023-11-09 09:36:23.587000-08:00  |2023-11-09 09:36:23.657000-08:00  |\n",
      "|01b037e0-0404-d114-0000-000202db3005  |2023-11-09 09:36:19.734000-08:00  |2023-11-09 09:36:20.021000-08:00  |\n",
      "|01b037dd-0404-d0f9-0000-000202db1005  |2023-11-09 09:33:22.918000-08:00  |2023-11-09 09:33:23.227000-08:00  |\n",
      "|01b037e0-0404-d114-0000-000202db3009  |2023-11-09 09:36:19.711000-08:00  |2023-11-09 09:36:19.887000-08:00  |\n",
      "|01b037e0-0404-d17f-0000-000202db2009  |2023-11-09 09:36:22.080000-08:00  |2023-11-09 09:36:22.209000-08:00  |\n",
      "|01b037e0-0404-d293-0000-000202db5005  |2023-11-09 09:36:23.536000-08:00  |2023-11-09 09:36:23.680000-08:00  |\n",
      "|01b037e0-0404-d293-0000-000202db5009  |2023-11-09 09:36:23.567000-08:00  |2023-11-09 09:36:23.680000-08:00  |\n",
      "--------------------------------------------------------------------------------------------------------------\n",
      "\n"
     ]
    }
   ],
   "source": [
    "db='SNOWFLAKE'\n",
    "sch='ACCOUNT_USAGE'\n",
    "\n",
    "session.table([db, sch, \"QUERY_HISTORY\"]).select(col(\"QUERY_ID\"), col(\"START_TIME\"), col(\"END_TIME\")).limit(10).show()"
   ]
  },
  {
   "cell_type": "markdown",
   "metadata": {},
   "source": [
    "`session.sql`\n",
    "- https://docs.snowflake.com/en/developer-guide/snowpark/reference/python/latest/api/snowflake.snowpark.Session.sql"
   ]
  },
  {
   "cell_type": "code",
   "execution_count": 9,
   "metadata": {},
   "outputs": [
    {
     "name": "stdout",
     "output_type": "stream",
     "text": [
      "--------------------------------------------------------------------------------------------------------------\n",
      "|\"QUERY_ID\"                            |\"START_TIME\"                      |\"END_TIME\"                        |\n",
      "--------------------------------------------------------------------------------------------------------------\n",
      "|01b0f71d-0604-dd36-0002-02db0004c1be  |2023-12-13 09:33:00.134000-08:00  |2023-12-13 09:33:05.278000-08:00  |\n",
      "|01b0f71c-0604-dd31-0002-02db00052196  |2023-12-13 09:32:32.679000-08:00  |2023-12-13 09:32:37.581000-08:00  |\n",
      "|01b0f718-0604-dd34-0002-02db0004d1ea  |2023-12-13 09:28:31.827000-08:00  |2023-12-13 09:28:43.634000-08:00  |\n",
      "|01b0f712-0604-dd37-0002-02db00051192  |2023-12-13 09:22:36.490000-08:00  |2023-12-13 09:22:37.781000-08:00  |\n",
      "|01b0f712-0604-dd37-0002-02db0005118e  |2023-12-13 09:22:24.938000-08:00  |2023-12-13 09:22:29.940000-08:00  |\n",
      "|01b0f70f-0604-dd31-0002-02db0005218e  |2023-12-13 09:19:20.605000-08:00  |2023-12-13 09:19:21.901000-08:00  |\n",
      "|01b0f70f-0604-dd31-0002-02db0005218a  |2023-12-13 09:19:10.694000-08:00  |2023-12-13 09:19:14.600000-08:00  |\n",
      "|01b0f70c-0604-dd36-0002-02db0004c1b2  |2023-12-13 09:16:41.965000-08:00  |2023-12-13 09:16:45.969000-08:00  |\n",
      "|01b0f70c-0604-ddbf-0002-02db0005609e  |2023-12-13 09:16:36.278000-08:00  |2023-12-13 09:16:37.573000-08:00  |\n",
      "|01b0f70c-0604-dd35-0002-02db0004f1ca  |2023-12-13 09:16:34.421000-08:00  |2023-12-13 09:16:35.966000-08:00  |\n",
      "--------------------------------------------------------------------------------------------------------------\n",
      "\n"
     ]
    }
   ],
   "source": [
    "session.sql(\"SELECT QUERY_ID, START_TIME, END_TIME FROM SNOWFLAKE.ACCOUNT_USAGE.QUERY_HISTORY ORDER BY START_TIME DESC LIMIT 10\").show()"
   ]
  },
  {
   "cell_type": "code",
   "execution_count": 10,
   "metadata": {},
   "outputs": [
    {
     "name": "stdout",
     "output_type": "stream",
     "text": [
      "-------------------------\n",
      "|\"COLUMN1\"  |\"COLUMN2\"  |\n",
      "-------------------------\n",
      "|1          |a          |\n",
      "|2          |b          |\n",
      "-------------------------\n",
      "\n"
     ]
    }
   ],
   "source": [
    "# Use params to bind variables\n",
    "session.sql(\"select * from values(?,?),(?,?)\", params=[1,\"a\",2,\"b\"]).sort(\"column1\").show()"
   ]
  },
  {
   "cell_type": "markdown",
   "metadata": {},
   "source": [
    "`session.call`\n",
    "- https://docs.snowflake.com/en/developer-guide/snowpark/reference/python/latest/api/snowflake.snowpark.Session.call"
   ]
  },
  {
   "cell_type": "code",
   "execution_count": 2,
   "metadata": {},
   "outputs": [
    {
     "name": "stderr",
     "output_type": "stream",
     "text": [
      "The version of package 'snowflake-snowpark-python' in the local environment is 1.11.1, which does not fit the criteria for the requirement 'snowflake-snowpark-python'. Your UDF might not work when the package version is different between the server and your local environment.\n"
     ]
    }
   ],
   "source": [
    "import snowflake.snowpark\n",
    "from snowflake.snowpark.functions import sproc\n",
    "\n",
    "session.add_packages('snowflake-snowpark-python')\n",
    "\n",
    "@sproc(session=session, name=\"my_copy_sp\", replace=True)\n",
    "def my_copy(session:snowflake.snowpark.Session, from_table: str, to_table: str, count: int) -> str:\n",
    "    session.table(from_table).limit(count).write.save_as_table(to_table)\n",
    "    return \"SUCCESS\""
   ]
  },
  {
   "cell_type": "code",
   "execution_count": 4,
   "metadata": {},
   "outputs": [
    {
     "data": {
      "text/plain": [
       "'SUCCESS'"
      ]
     },
     "execution_count": 4,
     "metadata": {},
     "output_type": "execute_result"
    }
   ],
   "source": [
    "session.call(\"my_copy_sp\", \"SNOWFLAKE.ACCOUNT_USAGE.QUERY_HISTORY\",\"Q_HISTORY\",10)"
   ]
  },
  {
   "cell_type": "code",
   "execution_count": 3,
   "metadata": {},
   "outputs": [
    {
     "data": {
      "text/plain": [
       "10"
      ]
     },
     "execution_count": 3,
     "metadata": {},
     "output_type": "execute_result"
    }
   ],
   "source": [
    "session.table(\"Q_HISTORY\").count()"
   ]
  },
  {
   "cell_type": "markdown",
   "metadata": {},
   "source": [
    "`table_function`\n",
    "- https://docs.snowflake.com/en/developer-guide/snowpark/reference/python/latest/api/snowflake.snowpark.Session.table_function"
   ]
  },
  {
   "cell_type": "code",
   "execution_count": 6,
   "metadata": {},
   "outputs": [
    {
     "name": "stdout",
     "output_type": "stream",
     "text": [
      "-----------------------------\n",
      "|\"SEQ\"  |\"INDEX\"  |\"VALUE\"  |\n",
      "-----------------------------\n",
      "|1      |1        |split    |\n",
      "|1      |2        |words    |\n",
      "|1      |3        |to       |\n",
      "|1      |4        |table    |\n",
      "-----------------------------\n",
      "\n"
     ]
    }
   ],
   "source": [
    "from snowflake.snowpark.functions import lit\n",
    "session.table_function(\"split_to_table\", lit(\"split words to table\"), lit(\" \")).show()"
   ]
  },
  {
   "cell_type": "markdown",
   "metadata": {},
   "source": [
    "`Creating Dataframes for Query Results`\n",
    "\n",
    "- We have 2 major methods to create dataframes using Snowflake Snowpark API. \n",
    "\n",
    "| Snowpark Method | Description |\n",
    "|--|--|\n",
    "|Session.createDataFrame | Creates a new DataFrame containing the specified values from the local data|\n",
    "| Session.create_dataframe | Creates a new DataFrame containing the specified values from the local data|"
   ]
  },
  {
   "cell_type": "markdown",
   "metadata": {},
   "source": [
    "- https://docs.snowflake.com/en/developer-guide/snowpark/reference/python/latest/api/snowflake.snowpark.Session.createDataFrame\n",
    "- https://docs.snowflake.com/en/developer-guide/snowpark/reference/python/latest/api/snowflake.snowpark.Session.create_dataframe"
   ]
  },
  {
   "cell_type": "code",
   "execution_count": 19,
   "metadata": {},
   "outputs": [
    {
     "name": "stdout",
     "output_type": "stream",
     "text": [
      "---------------\n",
      "|\"A\"  |\"B\"    |\n",
      "---------------\n",
      "|1    |snow   |\n",
      "|2    |flake  |\n",
      "---------------\n",
      "\n",
      "---------------\n",
      "|\"A\"  |\"B\"    |\n",
      "---------------\n",
      "|1    |snow   |\n",
      "|2    |flake  |\n",
      "---------------\n",
      "\n"
     ]
    }
   ],
   "source": [
    "from snowflake.snowpark.types import StructType, StructField, StringType, IntegerType, DecimalType, LongType\n",
    "\n",
    "schema = StructType([StructField(\"a\", IntegerType()), StructField(\"b\", StringType())])\n",
    "\n",
    "df = session.create_dataframe([[1,\"snow\"],[2,\"flake\"]], schema=schema)\n",
    "df.show()\n",
    "\n",
    "df1 = session.createDataFrame([[1,\"snow\"],[2,\"flake\"]], schema=schema)\n",
    "df1.show()"
   ]
  },
  {
   "cell_type": "markdown",
   "metadata": {},
   "source": [
    "`Miscellaneous Methods for Accessing and Generating the Data Using Snowpark Python API`\n",
    "\n",
    "- https://docs.snowflake.com/en/developer-guide/snowpark/reference/python/latest/functions\n",
    "- https://docs.snowflake.com/en/developer-guide/snowpark/reference/python/latest/api/snowflake.snowpark.functions.lit"
   ]
  },
  {
   "cell_type": "code",
   "execution_count": 22,
   "metadata": {},
   "outputs": [
    {
     "name": "stdout",
     "output_type": "stream",
     "text": [
      "---------------------------------------------------------------------------------------\n",
      "|\"0\"  |\"1\"  |\"2\"  |\"3\"   |\"4\"                 |\"5\"         |\"6\"   |\"7\"                |\n",
      "---------------------------------------------------------------------------------------\n",
      "|1    |1    |1.0  |True  |bytearray(b'snow')  |2023-12-14  |[     |{                  |\n",
      "|     |     |     |      |                    |            |  1,  |  \"snow\": \"flake\"  |\n",
      "|     |     |     |      |                    |            |  2   |}                  |\n",
      "|     |     |     |      |                    |            |]     |                   |\n",
      "---------------------------------------------------------------------------------------\n",
      "\n"
     ]
    }
   ],
   "source": [
    "import datetime\n",
    "from snowflake.snowpark.functions import lit, col, parse_json\n",
    "\n",
    "columns = [lit(1), lit(\"1\"), lit(1.0), lit(True), lit(b'snow'), lit(datetime.date(2023,12,14)), lit([1,2]), lit({\"snow\":\"flake\"})]\n",
    "\n",
    "session.create_dataframe([[]]).select([c.alias(str(i)) for i, c in enumerate(columns)]).show()"
   ]
  },
  {
   "cell_type": "markdown",
   "metadata": {},
   "source": [
    "- https://docs.snowflake.com/en/developer-guide/snowpark/reference/python/latest/api/snowflake.snowpark.functions.parse_json"
   ]
  },
  {
   "cell_type": "code",
   "execution_count": 23,
   "metadata": {},
   "outputs": [
    {
     "name": "stdout",
     "output_type": "stream",
     "text": [
      "----------------\n",
      "|\"RESULT\"      |\n",
      "----------------\n",
      "|{             |\n",
      "|  \"key\": \"1\"  |\n",
      "|}             |\n",
      "----------------\n",
      "\n"
     ]
    }
   ],
   "source": [
    "df = session.create_dataframe([['{\"key\": \"1\"}']], schema=[\"a\"])\n",
    "df.select(parse_json(df.col(\"a\")).alias(\"result\")).show()"
   ]
  },
  {
   "cell_type": "markdown",
   "metadata": {},
   "source": [
    "- https://docs.snowflake.com/en/developer-guide/snowpark/reference/python/latest/api/snowflake.snowpark.Session.flatten"
   ]
  },
  {
   "cell_type": "code",
   "execution_count": 24,
   "metadata": {},
   "outputs": [
    {
     "name": "stderr",
     "output_type": "stream",
     "text": [
      "Session.flatten() is deprecated since 0.7.0. Use `Session.table_function()` instead.\n"
     ]
    },
    {
     "name": "stdout",
     "output_type": "stream",
     "text": [
      "-----------------------------------------------------------------------------------------------------------------------------\n",
      "|\"SEQ\"  |\"KEY\"   |\"PATH\"                |\"INDEX\"  |\"VALUE\"                       |\"THIS\"                                    |\n",
      "-----------------------------------------------------------------------------------------------------------------------------\n",
      "|1      |height  |widget.window.height  |NULL     |500                           |{                                         |\n",
      "|       |        |                      |         |                              |  \"height\": 500,                          |\n",
      "|       |        |                      |         |                              |  \"name\": \"main_window\",                  |\n",
      "|       |        |                      |         |                              |  \"title\": \"Sample Konfabulator Widget\",  |\n",
      "|       |        |                      |         |                              |  \"width\": 500                            |\n",
      "|       |        |                      |         |                              |}                                         |\n",
      "|1      |name    |widget.window.name    |NULL     |\"main_window\"                 |{                                         |\n",
      "|       |        |                      |         |                              |  \"height\": 500,                          |\n",
      "|       |        |                      |         |                              |  \"name\": \"main_window\",                  |\n",
      "|       |        |                      |         |                              |  \"title\": \"Sample Konfabulator Widget\",  |\n",
      "|       |        |                      |         |                              |  \"width\": 500                            |\n",
      "|       |        |                      |         |                              |}                                         |\n",
      "|1      |title   |widget.window.title   |NULL     |\"Sample Konfabulator Widget\"  |{                                         |\n",
      "|       |        |                      |         |                              |  \"height\": 500,                          |\n",
      "|       |        |                      |         |                              |  \"name\": \"main_window\",                  |\n",
      "|       |        |                      |         |                              |  \"title\": \"Sample Konfabulator Widget\",  |\n",
      "|       |        |                      |         |                              |  \"width\": 500                            |\n",
      "|       |        |                      |         |                              |}                                         |\n",
      "|1      |width   |widget.window.width   |NULL     |500                           |{                                         |\n",
      "|       |        |                      |         |                              |  \"height\": 500,                          |\n",
      "|       |        |                      |         |                              |  \"name\": \"main_window\",                  |\n",
      "|       |        |                      |         |                              |  \"title\": \"Sample Konfabulator Widget\",  |\n",
      "|       |        |                      |         |                              |  \"width\": 500                            |\n",
      "|       |        |                      |         |                              |}                                         |\n",
      "-----------------------------------------------------------------------------------------------------------------------------\n",
      "\n"
     ]
    }
   ],
   "source": [
    "json_data = '''\n",
    "{'widget': {\n",
    "    'debug': 'on',\n",
    "    'window': {\n",
    "        'title': 'Sample Konfabulator Widget',\n",
    "        'name': 'main_window',\n",
    "        'width': 500,\n",
    "        'height': 500\n",
    "    },\n",
    "    'image': { \n",
    "        'src': 'Images/Sun.png',\n",
    "        'name': 'sun1',\n",
    "        'hOffset': 250,\n",
    "        'vOffset': 250,\n",
    "        'alignment': 'center'\n",
    "    },\n",
    "    'text': {\n",
    "        'data': 'Click Here',\n",
    "        'size': 36,\n",
    "        'style': 'bold',\n",
    "        'name': 'text1',\n",
    "        'hOffset': 250,\n",
    "        'vOffset': 100,\n",
    "        'alignment': 'center',\n",
    "        'onMouseUp': 'sun1.opacity = (sun1.opacity / 100) * 90;'\n",
    "    }\n",
    "}}    \n",
    "'''\n",
    "session.flatten(parse_json(lit(json_data)), \"widget.window\", False, False, 'BOTH').show()\n",
    "# Note: Session.flatten() is deprecated since 0.7.0. Use `Session.table_function()` instead."
   ]
  },
  {
   "cell_type": "code",
   "execution_count": 22,
   "metadata": {},
   "outputs": [
    {
     "name": "stdout",
     "output_type": "stream",
     "text": [
      "--------------------------\n",
      "|\"VEHICLE\"               |\n",
      "--------------------------\n",
      "|{                       |\n",
      "|  \"extras\": [           |\n",
      "|    \"ext warranty\",     |\n",
      "|    \"paint protection\"  |\n",
      "|  ],                    |\n",
      "|  \"make\": \"Honda\",      |\n",
      "|  \"model\": \"Civic\",     |\n",
      "|  \"price\": \"20275\",     |\n",
      "|  \"year\": \"2017\"        |\n",
      "|}                       |\n",
      "--------------------------\n",
      "\n"
     ]
    }
   ],
   "source": [
    "from snowflake.snowpark.functions import lit, col, parse_json, table_function\n",
    "\n",
    "json_data = '''\n",
    "{                                          \n",
    "  \"customer\": [                            \n",
    "    {                                      \n",
    "      \"address\": \"San Francisco, CA\",      \n",
    "      \"name\": \"Joyce Ridgely\",             \n",
    "      \"phone\": \"16504378889\"               \n",
    "    }                                      \n",
    "  ],                                       \n",
    "  \"date\": \"2017-04-28\",                    \n",
    "  \"dealership\": \"Valley View Auto Sales\",  \n",
    "  \"salesperson\": {                         \n",
    "    \"id\": \"55\",                            \n",
    "    \"name\": \"Frank Beasley\"                \n",
    "  },                                       \n",
    "  \"vehicle\": [                             \n",
    "    {                                      \n",
    "      \"extras\": [                          \n",
    "        \"ext warranty\",                    \n",
    "        \"paint protection\"                 \n",
    "      ],                                   \n",
    "      \"make\": \"Honda\",                     \n",
    "      \"model\": \"Civic\",                    \n",
    "      \"price\": \"20275\",                    \n",
    "      \"year\": \"2017\"                       \n",
    "    }                                      \n",
    "  ]                                        \n",
    "}   \n",
    "'''\n",
    "\n",
    "#df=session.table_function(\"flatten\", parse_json(lit(json_data)))\n",
    "#df.show()\n",
    "\n",
    "df1=session.table_function(\"flatten\", parse_json(lit(json_data))[\"vehicle\"]).select(col(\"value\").alias(\"vehicle\"))\n",
    "df1.show()"
   ]
  },
  {
   "cell_type": "markdown",
   "metadata": {},
   "source": [
    "- https://docs.snowflake.com/en/developer-guide/snowpark/reference/python/latest/api/snowflake.snowpark.Session.generator"
   ]
  },
  {
   "cell_type": "code",
   "execution_count": 26,
   "metadata": {},
   "outputs": [
    {
     "name": "stdout",
     "output_type": "stream",
     "text": [
      "------------------------------\n",
      "|\"SEQUENCE_ONE\"  |\"UNIFORM\"  |\n",
      "------------------------------\n",
      "|0               |3          |\n",
      "|1               |3          |\n",
      "|2               |3          |\n",
      "|3               |3          |\n",
      "|4               |3          |\n",
      "|5               |3          |\n",
      "|6               |3          |\n",
      "|7               |3          |\n",
      "|8               |3          |\n",
      "|9               |3          |\n",
      "------------------------------\n",
      "\n"
     ]
    }
   ],
   "source": [
    "# Creating a new DataFrame using the Generator table function\n",
    "from snowflake.snowpark.functions import seq1, seq8, uniform\n",
    "\n",
    "#session.generator(seq8(1).alias(\"sequence_one\"), uniform(1,10,2).alias(\"uniform\"), rowcount=3).show()\n",
    "session.generator(seq8(1).alias(\"sequence_one\"), uniform(1,10,2).alias(\"uniform\"), timelimit=2).show()"
   ]
  },
  {
   "cell_type": "markdown",
   "metadata": {},
   "source": [
    "- https://docs.snowflake.com/en/developer-guide/snowpark/reference/python/latest/api/snowflake.snowpark.Session.query_history"
   ]
  },
  {
   "cell_type": "code",
   "execution_count": 31,
   "metadata": {},
   "outputs": [
    {
     "name": "stdout",
     "output_type": "stream",
     "text": [
      "-------------\n",
      "|\"A\"  |\"B\"  |\n",
      "-------------\n",
      "|1    |2    |\n",
      "|3    |4    |\n",
      "-------------\n",
      "\n"
     ]
    },
    {
     "data": {
      "text/plain": [
       "[QueryRecord(query_id='01b0f911-0604-db2e-0002-02db0003e33a', sql_text='SELECT \"A\", \"B\" FROM ( SELECT $1 AS \"A\", $2 AS \"B\" FROM  VALUES (1 :: INT, 2 :: INT), (3 :: INT, 4 :: INT)) LIMIT 10')]"
      ]
     },
     "execution_count": 31,
     "metadata": {},
     "output_type": "execute_result"
    }
   ],
   "source": [
    "# Create an instance of QueryHistory as a context manager to record queries that are pushed down to the Snowflake database.\n",
    "with session.query_history() as query_history:\n",
    "    df = session.create_dataframe([[1,2],[3,4]], schema=[\"a\",\"b\"])\n",
    "    df.filter(df[\"a\"]==1)\n",
    "    res = df.show()\n",
    "\n",
    "query_history.queries"
   ]
  },
  {
   "cell_type": "code",
   "execution_count": null,
   "metadata": {},
   "outputs": [],
   "source": [
    "with session.query_history() as qh:\n",
    "    session.sql('show databases').show()\n",
    "    session.table('Q_HISTORY').drop_table()\n",
    "    session.call('sf_copy_function','SNOWFLAKE.ACCOUNT_USAGE.QUERY_HISTORY','Q_HISTORY',10)\n",
    "\n",
    "qh.queries"
   ]
  },
  {
   "cell_type": "markdown",
   "metadata": {},
   "source": [
    "- https://docs.snowflake.com/en/developer-guide/snowpark/reference/python/latest/api/snowflake.snowpark.Session.range"
   ]
  },
  {
   "cell_type": "code",
   "execution_count": 36,
   "metadata": {},
   "outputs": [
    {
     "name": "stdout",
     "output_type": "stream",
     "text": [
      "--------\n",
      "|\"ID\"  |\n",
      "--------\n",
      "|1     |\n",
      "|3     |\n",
      "|5     |\n",
      "|7     |\n",
      "|9     |\n",
      "--------\n",
      "\n"
     ]
    }
   ],
   "source": [
    "session.range(1,10,2).show()"
   ]
  },
  {
   "cell_type": "code",
   "execution_count": 37,
   "metadata": {},
   "outputs": [],
   "source": [
    "# Close Snowpark session\n",
    "session.close()"
   ]
  }
 ],
 "metadata": {
  "kernelspec": {
   "display_name": "snowpark10",
   "language": "python",
   "name": "python3"
  },
  "language_info": {
   "codemirror_mode": {
    "name": "ipython",
    "version": 3
   },
   "file_extension": ".py",
   "mimetype": "text/x-python",
   "name": "python",
   "nbconvert_exporter": "python",
   "pygments_lexer": "ipython3",
   "version": "3.10.13"
  }
 },
 "nbformat": 4,
 "nbformat_minor": 2
}
